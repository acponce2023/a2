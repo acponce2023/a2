{
  "cells": [
    {
      "cell_type": "markdown",
      "metadata": {
        "id": "view-in-github",
        "colab_type": "text"
      },
      "source": [
        "<a href=\"https://colab.research.google.com/github/acponce2023/a2/blob/main/filtering_process_V2.ipynb\" target=\"_parent\"><img src=\"https://colab.research.google.com/assets/colab-badge.svg\" alt=\"Open In Colab\"/></a>"
      ]
    },
    {
      "cell_type": "markdown",
      "metadata": {
        "id": "_r_GRpyEMlXJ"
      },
      "source": [
        "En este cuaderno se encuentra una adaptación del proceso de filtrado para que podáis trabajar con él y ver su funcionamiento más en detalle.\n",
        "\n",
        "Hay algunos ficheros que tendréis que poner en las carpetas que corresponda, por ejemplo todos los ficheros de frecuencias.\n"
      ]
    },
    {
      "cell_type": "code",
      "execution_count": null,
      "metadata": {
        "id": "6lmqkM0gzJcS",
        "colab": {
          "base_uri": "https://localhost:8080/"
        },
        "outputId": "1e1573cb-8d51-4286-cd1c-c0a0ba96f566"
      },
      "outputs": [
        {
          "output_type": "stream",
          "name": "stdout",
          "text": [
            "Requirement already satisfied: spacy in /usr/local/lib/python3.10/dist-packages (3.6.1)\n",
            "Collecting lingua-language-detector\n",
            "  Downloading lingua_language_detector-2.0.0-cp310-cp310-manylinux_2_17_x86_64.manylinux2014_x86_64.whl (74.7 MB)\n",
            "\u001b[2K     \u001b[90m━━━━━━━━━━━━━━━━━━━━━━━━━━━━━━━━━━━━━━━━\u001b[0m \u001b[32m74.7/74.7 MB\u001b[0m \u001b[31m5.9 MB/s\u001b[0m eta \u001b[36m0:00:00\u001b[0m\n",
            "\u001b[?25hRequirement already satisfied: spacy-legacy<3.1.0,>=3.0.11 in /usr/local/lib/python3.10/dist-packages (from spacy) (3.0.12)\n",
            "Requirement already satisfied: spacy-loggers<2.0.0,>=1.0.0 in /usr/local/lib/python3.10/dist-packages (from spacy) (1.0.5)\n",
            "Requirement already satisfied: murmurhash<1.1.0,>=0.28.0 in /usr/local/lib/python3.10/dist-packages (from spacy) (1.0.10)\n",
            "Requirement already satisfied: cymem<2.1.0,>=2.0.2 in /usr/local/lib/python3.10/dist-packages (from spacy) (2.0.8)\n",
            "Requirement already satisfied: preshed<3.1.0,>=3.0.2 in /usr/local/lib/python3.10/dist-packages (from spacy) (3.0.9)\n",
            "Requirement already satisfied: thinc<8.2.0,>=8.1.8 in /usr/local/lib/python3.10/dist-packages (from spacy) (8.1.12)\n",
            "Requirement already satisfied: wasabi<1.2.0,>=0.9.1 in /usr/local/lib/python3.10/dist-packages (from spacy) (1.1.2)\n",
            "Requirement already satisfied: srsly<3.0.0,>=2.4.3 in /usr/local/lib/python3.10/dist-packages (from spacy) (2.4.8)\n",
            "Requirement already satisfied: catalogue<2.1.0,>=2.0.6 in /usr/local/lib/python3.10/dist-packages (from spacy) (2.0.10)\n",
            "Requirement already satisfied: typer<0.10.0,>=0.3.0 in /usr/local/lib/python3.10/dist-packages (from spacy) (0.9.0)\n",
            "Requirement already satisfied: pathy>=0.10.0 in /usr/local/lib/python3.10/dist-packages (from spacy) (0.10.3)\n",
            "Requirement already satisfied: smart-open<7.0.0,>=5.2.1 in /usr/local/lib/python3.10/dist-packages (from spacy) (6.4.0)\n",
            "Requirement already satisfied: tqdm<5.0.0,>=4.38.0 in /usr/local/lib/python3.10/dist-packages (from spacy) (4.66.1)\n",
            "Requirement already satisfied: numpy>=1.15.0 in /usr/local/lib/python3.10/dist-packages (from spacy) (1.23.5)\n",
            "Requirement already satisfied: requests<3.0.0,>=2.13.0 in /usr/local/lib/python3.10/dist-packages (from spacy) (2.31.0)\n",
            "Requirement already satisfied: pydantic!=1.8,!=1.8.1,<3.0.0,>=1.7.4 in /usr/local/lib/python3.10/dist-packages (from spacy) (1.10.13)\n",
            "Requirement already satisfied: jinja2 in /usr/local/lib/python3.10/dist-packages (from spacy) (3.1.2)\n",
            "Requirement already satisfied: setuptools in /usr/local/lib/python3.10/dist-packages (from spacy) (67.7.2)\n",
            "Requirement already satisfied: packaging>=20.0 in /usr/local/lib/python3.10/dist-packages (from spacy) (23.2)\n",
            "Requirement already satisfied: langcodes<4.0.0,>=3.2.0 in /usr/local/lib/python3.10/dist-packages (from spacy) (3.3.0)\n",
            "Requirement already satisfied: typing-extensions>=4.2.0 in /usr/local/lib/python3.10/dist-packages (from pydantic!=1.8,!=1.8.1,<3.0.0,>=1.7.4->spacy) (4.5.0)\n",
            "Requirement already satisfied: charset-normalizer<4,>=2 in /usr/local/lib/python3.10/dist-packages (from requests<3.0.0,>=2.13.0->spacy) (3.3.2)\n",
            "Requirement already satisfied: idna<4,>=2.5 in /usr/local/lib/python3.10/dist-packages (from requests<3.0.0,>=2.13.0->spacy) (3.4)\n",
            "Requirement already satisfied: urllib3<3,>=1.21.1 in /usr/local/lib/python3.10/dist-packages (from requests<3.0.0,>=2.13.0->spacy) (2.0.7)\n",
            "Requirement already satisfied: certifi>=2017.4.17 in /usr/local/lib/python3.10/dist-packages (from requests<3.0.0,>=2.13.0->spacy) (2023.7.22)\n",
            "Requirement already satisfied: blis<0.8.0,>=0.7.8 in /usr/local/lib/python3.10/dist-packages (from thinc<8.2.0,>=8.1.8->spacy) (0.7.11)\n",
            "Requirement already satisfied: confection<1.0.0,>=0.0.1 in /usr/local/lib/python3.10/dist-packages (from thinc<8.2.0,>=8.1.8->spacy) (0.1.3)\n",
            "Requirement already satisfied: click<9.0.0,>=7.1.1 in /usr/local/lib/python3.10/dist-packages (from typer<0.10.0,>=0.3.0->spacy) (8.1.7)\n",
            "Requirement already satisfied: MarkupSafe>=2.0 in /usr/local/lib/python3.10/dist-packages (from jinja2->spacy) (2.1.3)\n",
            "Installing collected packages: lingua-language-detector\n",
            "Successfully installed lingua-language-detector-2.0.0\n"
          ]
        }
      ],
      "source": [
        "!pip install spacy lingua-language-detector\n"
      ]
    },
    {
      "cell_type": "code",
      "execution_count": null,
      "metadata": {
        "id": "Xrh50SbGzzzF",
        "colab": {
          "base_uri": "https://localhost:8080/"
        },
        "outputId": "3fb8a358-456a-4eae-b7f0-f584e4a0ab42"
      },
      "outputs": [
        {
          "output_type": "stream",
          "name": "stdout",
          "text": [
            "freq/fre/\n",
            "freq/fre/fre-1gram.txt\n",
            "freq/spa/spa-1gram.txt\n",
            "freq/ger/\n",
            "freq/spa/\n",
            "freq/ita/ita-2gram.txt\n",
            "freq/ita/ita-1gram.txt\n",
            "freq/ger/ger-2gram.txt\n",
            "freq/ger/ger-1gram.txt\n",
            "freq/eng/\n",
            "freq/\n",
            "freq/eng/eng-2gram.txt\n",
            "freq/ita/\n",
            "freq/eng/eng-1gram.txt\n",
            "freq/fre/fre-2gram.txt\n",
            "freq/spa/spa-2gram.txt\n",
            "extract/eng/occupational_therapy/\n",
            "extract/spa/occupational_therapy/\n",
            "extract/fre/occupational_therapy/\n",
            "extract/spa/\n",
            "extract/spa/occupational_therapy/terms.txt\n",
            "extract/fre/occupational_therapy/terms.txt\n",
            "extract/ger/occupational_therapy/terms.txt\n",
            "extract/eng/\n",
            "extract/ger/occupational_therapy/\n",
            "extract/ita/\n",
            "extract/eng/occupational_therapy/terms.txt\n",
            "extract/ita/occupational_therapy/terms.txt\n",
            "extract/fre/\n",
            "extract/ita/occupational_therapy/\n",
            "extract/ger/\n",
            "extract/\n"
          ]
        }
      ],
      "source": [
        "!tar -xvf freq.tar\n",
        "!tar -xvf extract.tar"
      ]
    },
    {
      "cell_type": "code",
      "execution_count": null,
      "metadata": {
        "id": "wQnMIGfd0dka",
        "colab": {
          "base_uri": "https://localhost:8080/"
        },
        "outputId": "1af8467d-22f5-4042-9dfe-5a81cf3596c7"
      },
      "outputs": [
        {
          "output_type": "stream",
          "name": "stdout",
          "text": [
            "2023-11-21 18:14:46.991285: E tensorflow/compiler/xla/stream_executor/cuda/cuda_dnn.cc:9342] Unable to register cuDNN factory: Attempting to register factory for plugin cuDNN when one has already been registered\n",
            "2023-11-21 18:14:46.991357: E tensorflow/compiler/xla/stream_executor/cuda/cuda_fft.cc:609] Unable to register cuFFT factory: Attempting to register factory for plugin cuFFT when one has already been registered\n",
            "2023-11-21 18:14:46.991404: E tensorflow/compiler/xla/stream_executor/cuda/cuda_blas.cc:1518] Unable to register cuBLAS factory: Attempting to register factory for plugin cuBLAS when one has already been registered\n",
            "2023-11-21 18:14:47.000835: I tensorflow/core/platform/cpu_feature_guard.cc:182] This TensorFlow binary is optimized to use available CPU instructions in performance-critical operations.\n",
            "To enable the following instructions: AVX2 FMA, in other operations, rebuild TensorFlow with the appropriate compiler flags.\n",
            "2023-11-21 18:14:48.184370: W tensorflow/compiler/tf2tensorrt/utils/py_utils.cc:38] TF-TRT Warning: Could not find TensorRT\n",
            "Collecting en-core-web-sm==3.6.0\n",
            "  Downloading https://github.com/explosion/spacy-models/releases/download/en_core_web_sm-3.6.0/en_core_web_sm-3.6.0-py3-none-any.whl (12.8 MB)\n",
            "\u001b[2K     \u001b[90m━━━━━━━━━━━━━━━━━━━━━━━━━━━━━━━━━━━━━━━━\u001b[0m \u001b[32m12.8/12.8 MB\u001b[0m \u001b[31m57.8 MB/s\u001b[0m eta \u001b[36m0:00:00\u001b[0m\n",
            "\u001b[?25hRequirement already satisfied: spacy<3.7.0,>=3.6.0 in /usr/local/lib/python3.10/dist-packages (from en-core-web-sm==3.6.0) (3.6.1)\n",
            "Requirement already satisfied: spacy-legacy<3.1.0,>=3.0.11 in /usr/local/lib/python3.10/dist-packages (from spacy<3.7.0,>=3.6.0->en-core-web-sm==3.6.0) (3.0.12)\n",
            "Requirement already satisfied: spacy-loggers<2.0.0,>=1.0.0 in /usr/local/lib/python3.10/dist-packages (from spacy<3.7.0,>=3.6.0->en-core-web-sm==3.6.0) (1.0.5)\n",
            "Requirement already satisfied: murmurhash<1.1.0,>=0.28.0 in /usr/local/lib/python3.10/dist-packages (from spacy<3.7.0,>=3.6.0->en-core-web-sm==3.6.0) (1.0.10)\n",
            "Requirement already satisfied: cymem<2.1.0,>=2.0.2 in /usr/local/lib/python3.10/dist-packages (from spacy<3.7.0,>=3.6.0->en-core-web-sm==3.6.0) (2.0.8)\n",
            "Requirement already satisfied: preshed<3.1.0,>=3.0.2 in /usr/local/lib/python3.10/dist-packages (from spacy<3.7.0,>=3.6.0->en-core-web-sm==3.6.0) (3.0.9)\n",
            "Requirement already satisfied: thinc<8.2.0,>=8.1.8 in /usr/local/lib/python3.10/dist-packages (from spacy<3.7.0,>=3.6.0->en-core-web-sm==3.6.0) (8.1.12)\n",
            "Requirement already satisfied: wasabi<1.2.0,>=0.9.1 in /usr/local/lib/python3.10/dist-packages (from spacy<3.7.0,>=3.6.0->en-core-web-sm==3.6.0) (1.1.2)\n",
            "Requirement already satisfied: srsly<3.0.0,>=2.4.3 in /usr/local/lib/python3.10/dist-packages (from spacy<3.7.0,>=3.6.0->en-core-web-sm==3.6.0) (2.4.8)\n",
            "Requirement already satisfied: catalogue<2.1.0,>=2.0.6 in /usr/local/lib/python3.10/dist-packages (from spacy<3.7.0,>=3.6.0->en-core-web-sm==3.6.0) (2.0.10)\n",
            "Requirement already satisfied: typer<0.10.0,>=0.3.0 in /usr/local/lib/python3.10/dist-packages (from spacy<3.7.0,>=3.6.0->en-core-web-sm==3.6.0) (0.9.0)\n",
            "Requirement already satisfied: pathy>=0.10.0 in /usr/local/lib/python3.10/dist-packages (from spacy<3.7.0,>=3.6.0->en-core-web-sm==3.6.0) (0.10.3)\n",
            "Requirement already satisfied: smart-open<7.0.0,>=5.2.1 in /usr/local/lib/python3.10/dist-packages (from spacy<3.7.0,>=3.6.0->en-core-web-sm==3.6.0) (6.4.0)\n",
            "Requirement already satisfied: tqdm<5.0.0,>=4.38.0 in /usr/local/lib/python3.10/dist-packages (from spacy<3.7.0,>=3.6.0->en-core-web-sm==3.6.0) (4.66.1)\n",
            "Requirement already satisfied: numpy>=1.15.0 in /usr/local/lib/python3.10/dist-packages (from spacy<3.7.0,>=3.6.0->en-core-web-sm==3.6.0) (1.23.5)\n",
            "Requirement already satisfied: requests<3.0.0,>=2.13.0 in /usr/local/lib/python3.10/dist-packages (from spacy<3.7.0,>=3.6.0->en-core-web-sm==3.6.0) (2.31.0)\n",
            "Requirement already satisfied: pydantic!=1.8,!=1.8.1,<3.0.0,>=1.7.4 in /usr/local/lib/python3.10/dist-packages (from spacy<3.7.0,>=3.6.0->en-core-web-sm==3.6.0) (1.10.13)\n",
            "Requirement already satisfied: jinja2 in /usr/local/lib/python3.10/dist-packages (from spacy<3.7.0,>=3.6.0->en-core-web-sm==3.6.0) (3.1.2)\n",
            "Requirement already satisfied: setuptools in /usr/local/lib/python3.10/dist-packages (from spacy<3.7.0,>=3.6.0->en-core-web-sm==3.6.0) (67.7.2)\n",
            "Requirement already satisfied: packaging>=20.0 in /usr/local/lib/python3.10/dist-packages (from spacy<3.7.0,>=3.6.0->en-core-web-sm==3.6.0) (23.2)\n",
            "Requirement already satisfied: langcodes<4.0.0,>=3.2.0 in /usr/local/lib/python3.10/dist-packages (from spacy<3.7.0,>=3.6.0->en-core-web-sm==3.6.0) (3.3.0)\n",
            "Requirement already satisfied: typing-extensions>=4.2.0 in /usr/local/lib/python3.10/dist-packages (from pydantic!=1.8,!=1.8.1,<3.0.0,>=1.7.4->spacy<3.7.0,>=3.6.0->en-core-web-sm==3.6.0) (4.5.0)\n",
            "Requirement already satisfied: charset-normalizer<4,>=2 in /usr/local/lib/python3.10/dist-packages (from requests<3.0.0,>=2.13.0->spacy<3.7.0,>=3.6.0->en-core-web-sm==3.6.0) (3.3.2)\n",
            "Requirement already satisfied: idna<4,>=2.5 in /usr/local/lib/python3.10/dist-packages (from requests<3.0.0,>=2.13.0->spacy<3.7.0,>=3.6.0->en-core-web-sm==3.6.0) (3.4)\n",
            "Requirement already satisfied: urllib3<3,>=1.21.1 in /usr/local/lib/python3.10/dist-packages (from requests<3.0.0,>=2.13.0->spacy<3.7.0,>=3.6.0->en-core-web-sm==3.6.0) (2.0.7)\n",
            "Requirement already satisfied: certifi>=2017.4.17 in /usr/local/lib/python3.10/dist-packages (from requests<3.0.0,>=2.13.0->spacy<3.7.0,>=3.6.0->en-core-web-sm==3.6.0) (2023.7.22)\n",
            "Requirement already satisfied: blis<0.8.0,>=0.7.8 in /usr/local/lib/python3.10/dist-packages (from thinc<8.2.0,>=8.1.8->spacy<3.7.0,>=3.6.0->en-core-web-sm==3.6.0) (0.7.11)\n",
            "Requirement already satisfied: confection<1.0.0,>=0.0.1 in /usr/local/lib/python3.10/dist-packages (from thinc<8.2.0,>=8.1.8->spacy<3.7.0,>=3.6.0->en-core-web-sm==3.6.0) (0.1.3)\n",
            "Requirement already satisfied: click<9.0.0,>=7.1.1 in /usr/local/lib/python3.10/dist-packages (from typer<0.10.0,>=0.3.0->spacy<3.7.0,>=3.6.0->en-core-web-sm==3.6.0) (8.1.7)\n",
            "Requirement already satisfied: MarkupSafe>=2.0 in /usr/local/lib/python3.10/dist-packages (from jinja2->spacy<3.7.0,>=3.6.0->en-core-web-sm==3.6.0) (2.1.3)\n",
            "\u001b[38;5;2m✔ Download and installation successful\u001b[0m\n",
            "You can now load the package via spacy.load('en_core_web_sm')\n",
            "2023-11-21 18:15:04.705806: E tensorflow/compiler/xla/stream_executor/cuda/cuda_dnn.cc:9342] Unable to register cuDNN factory: Attempting to register factory for plugin cuDNN when one has already been registered\n",
            "2023-11-21 18:15:04.705864: E tensorflow/compiler/xla/stream_executor/cuda/cuda_fft.cc:609] Unable to register cuFFT factory: Attempting to register factory for plugin cuFFT when one has already been registered\n",
            "2023-11-21 18:15:04.705905: E tensorflow/compiler/xla/stream_executor/cuda/cuda_blas.cc:1518] Unable to register cuBLAS factory: Attempting to register factory for plugin cuBLAS when one has already been registered\n",
            "2023-11-21 18:15:04.714140: I tensorflow/core/platform/cpu_feature_guard.cc:182] This TensorFlow binary is optimized to use available CPU instructions in performance-critical operations.\n",
            "To enable the following instructions: AVX2 FMA, in other operations, rebuild TensorFlow with the appropriate compiler flags.\n",
            "2023-11-21 18:15:05.885963: W tensorflow/compiler/tf2tensorrt/utils/py_utils.cc:38] TF-TRT Warning: Could not find TensorRT\n",
            "Collecting de-core-news-sm==3.6.0\n",
            "  Downloading https://github.com/explosion/spacy-models/releases/download/de_core_news_sm-3.6.0/de_core_news_sm-3.6.0-py3-none-any.whl (14.6 MB)\n",
            "\u001b[2K     \u001b[90m━━━━━━━━━━━━━━━━━━━━━━━━━━━━━━━━━━━━━━━━\u001b[0m \u001b[32m14.6/14.6 MB\u001b[0m \u001b[31m56.9 MB/s\u001b[0m eta \u001b[36m0:00:00\u001b[0m\n",
            "\u001b[?25hRequirement already satisfied: spacy<3.7.0,>=3.6.0 in /usr/local/lib/python3.10/dist-packages (from de-core-news-sm==3.6.0) (3.6.1)\n",
            "Requirement already satisfied: spacy-legacy<3.1.0,>=3.0.11 in /usr/local/lib/python3.10/dist-packages (from spacy<3.7.0,>=3.6.0->de-core-news-sm==3.6.0) (3.0.12)\n",
            "Requirement already satisfied: spacy-loggers<2.0.0,>=1.0.0 in /usr/local/lib/python3.10/dist-packages (from spacy<3.7.0,>=3.6.0->de-core-news-sm==3.6.0) (1.0.5)\n",
            "Requirement already satisfied: murmurhash<1.1.0,>=0.28.0 in /usr/local/lib/python3.10/dist-packages (from spacy<3.7.0,>=3.6.0->de-core-news-sm==3.6.0) (1.0.10)\n",
            "Requirement already satisfied: cymem<2.1.0,>=2.0.2 in /usr/local/lib/python3.10/dist-packages (from spacy<3.7.0,>=3.6.0->de-core-news-sm==3.6.0) (2.0.8)\n",
            "Requirement already satisfied: preshed<3.1.0,>=3.0.2 in /usr/local/lib/python3.10/dist-packages (from spacy<3.7.0,>=3.6.0->de-core-news-sm==3.6.0) (3.0.9)\n",
            "Requirement already satisfied: thinc<8.2.0,>=8.1.8 in /usr/local/lib/python3.10/dist-packages (from spacy<3.7.0,>=3.6.0->de-core-news-sm==3.6.0) (8.1.12)\n",
            "Requirement already satisfied: wasabi<1.2.0,>=0.9.1 in /usr/local/lib/python3.10/dist-packages (from spacy<3.7.0,>=3.6.0->de-core-news-sm==3.6.0) (1.1.2)\n",
            "Requirement already satisfied: srsly<3.0.0,>=2.4.3 in /usr/local/lib/python3.10/dist-packages (from spacy<3.7.0,>=3.6.0->de-core-news-sm==3.6.0) (2.4.8)\n",
            "Requirement already satisfied: catalogue<2.1.0,>=2.0.6 in /usr/local/lib/python3.10/dist-packages (from spacy<3.7.0,>=3.6.0->de-core-news-sm==3.6.0) (2.0.10)\n",
            "Requirement already satisfied: typer<0.10.0,>=0.3.0 in /usr/local/lib/python3.10/dist-packages (from spacy<3.7.0,>=3.6.0->de-core-news-sm==3.6.0) (0.9.0)\n",
            "Requirement already satisfied: pathy>=0.10.0 in /usr/local/lib/python3.10/dist-packages (from spacy<3.7.0,>=3.6.0->de-core-news-sm==3.6.0) (0.10.3)\n",
            "Requirement already satisfied: smart-open<7.0.0,>=5.2.1 in /usr/local/lib/python3.10/dist-packages (from spacy<3.7.0,>=3.6.0->de-core-news-sm==3.6.0) (6.4.0)\n",
            "Requirement already satisfied: tqdm<5.0.0,>=4.38.0 in /usr/local/lib/python3.10/dist-packages (from spacy<3.7.0,>=3.6.0->de-core-news-sm==3.6.0) (4.66.1)\n",
            "Requirement already satisfied: numpy>=1.15.0 in /usr/local/lib/python3.10/dist-packages (from spacy<3.7.0,>=3.6.0->de-core-news-sm==3.6.0) (1.23.5)\n",
            "Requirement already satisfied: requests<3.0.0,>=2.13.0 in /usr/local/lib/python3.10/dist-packages (from spacy<3.7.0,>=3.6.0->de-core-news-sm==3.6.0) (2.31.0)\n",
            "Requirement already satisfied: pydantic!=1.8,!=1.8.1,<3.0.0,>=1.7.4 in /usr/local/lib/python3.10/dist-packages (from spacy<3.7.0,>=3.6.0->de-core-news-sm==3.6.0) (1.10.13)\n",
            "Requirement already satisfied: jinja2 in /usr/local/lib/python3.10/dist-packages (from spacy<3.7.0,>=3.6.0->de-core-news-sm==3.6.0) (3.1.2)\n",
            "Requirement already satisfied: setuptools in /usr/local/lib/python3.10/dist-packages (from spacy<3.7.0,>=3.6.0->de-core-news-sm==3.6.0) (67.7.2)\n",
            "Requirement already satisfied: packaging>=20.0 in /usr/local/lib/python3.10/dist-packages (from spacy<3.7.0,>=3.6.0->de-core-news-sm==3.6.0) (23.2)\n",
            "Requirement already satisfied: langcodes<4.0.0,>=3.2.0 in /usr/local/lib/python3.10/dist-packages (from spacy<3.7.0,>=3.6.0->de-core-news-sm==3.6.0) (3.3.0)\n",
            "Requirement already satisfied: typing-extensions>=4.2.0 in /usr/local/lib/python3.10/dist-packages (from pydantic!=1.8,!=1.8.1,<3.0.0,>=1.7.4->spacy<3.7.0,>=3.6.0->de-core-news-sm==3.6.0) (4.5.0)\n",
            "Requirement already satisfied: charset-normalizer<4,>=2 in /usr/local/lib/python3.10/dist-packages (from requests<3.0.0,>=2.13.0->spacy<3.7.0,>=3.6.0->de-core-news-sm==3.6.0) (3.3.2)\n",
            "Requirement already satisfied: idna<4,>=2.5 in /usr/local/lib/python3.10/dist-packages (from requests<3.0.0,>=2.13.0->spacy<3.7.0,>=3.6.0->de-core-news-sm==3.6.0) (3.4)\n",
            "Requirement already satisfied: urllib3<3,>=1.21.1 in /usr/local/lib/python3.10/dist-packages (from requests<3.0.0,>=2.13.0->spacy<3.7.0,>=3.6.0->de-core-news-sm==3.6.0) (2.0.7)\n",
            "Requirement already satisfied: certifi>=2017.4.17 in /usr/local/lib/python3.10/dist-packages (from requests<3.0.0,>=2.13.0->spacy<3.7.0,>=3.6.0->de-core-news-sm==3.6.0) (2023.7.22)\n",
            "Requirement already satisfied: blis<0.8.0,>=0.7.8 in /usr/local/lib/python3.10/dist-packages (from thinc<8.2.0,>=8.1.8->spacy<3.7.0,>=3.6.0->de-core-news-sm==3.6.0) (0.7.11)\n",
            "Requirement already satisfied: confection<1.0.0,>=0.0.1 in /usr/local/lib/python3.10/dist-packages (from thinc<8.2.0,>=8.1.8->spacy<3.7.0,>=3.6.0->de-core-news-sm==3.6.0) (0.1.3)\n",
            "Requirement already satisfied: click<9.0.0,>=7.1.1 in /usr/local/lib/python3.10/dist-packages (from typer<0.10.0,>=0.3.0->spacy<3.7.0,>=3.6.0->de-core-news-sm==3.6.0) (8.1.7)\n",
            "Requirement already satisfied: MarkupSafe>=2.0 in /usr/local/lib/python3.10/dist-packages (from jinja2->spacy<3.7.0,>=3.6.0->de-core-news-sm==3.6.0) (2.1.3)\n",
            "Installing collected packages: de-core-news-sm\n",
            "Successfully installed de-core-news-sm-3.6.0\n",
            "\u001b[38;5;2m✔ Download and installation successful\u001b[0m\n",
            "You can now load the package via spacy.load('de_core_news_sm')\n",
            "2023-11-21 18:15:20.051110: E tensorflow/compiler/xla/stream_executor/cuda/cuda_dnn.cc:9342] Unable to register cuDNN factory: Attempting to register factory for plugin cuDNN when one has already been registered\n",
            "2023-11-21 18:15:20.051178: E tensorflow/compiler/xla/stream_executor/cuda/cuda_fft.cc:609] Unable to register cuFFT factory: Attempting to register factory for plugin cuFFT when one has already been registered\n",
            "2023-11-21 18:15:20.051229: E tensorflow/compiler/xla/stream_executor/cuda/cuda_blas.cc:1518] Unable to register cuBLAS factory: Attempting to register factory for plugin cuBLAS when one has already been registered\n",
            "2023-11-21 18:15:20.059747: I tensorflow/core/platform/cpu_feature_guard.cc:182] This TensorFlow binary is optimized to use available CPU instructions in performance-critical operations.\n",
            "To enable the following instructions: AVX2 FMA, in other operations, rebuild TensorFlow with the appropriate compiler flags.\n",
            "2023-11-21 18:15:21.216983: W tensorflow/compiler/tf2tensorrt/utils/py_utils.cc:38] TF-TRT Warning: Could not find TensorRT\n",
            "Collecting fr-core-news-sm==3.6.0\n",
            "  Downloading https://github.com/explosion/spacy-models/releases/download/fr_core_news_sm-3.6.0/fr_core_news_sm-3.6.0-py3-none-any.whl (16.3 MB)\n",
            "\u001b[2K     \u001b[90m━━━━━━━━━━━━━━━━━━━━━━━━━━━━━━━━━━━━━━━━\u001b[0m \u001b[32m16.3/16.3 MB\u001b[0m \u001b[31m47.8 MB/s\u001b[0m eta \u001b[36m0:00:00\u001b[0m\n",
            "\u001b[?25hRequirement already satisfied: spacy<3.7.0,>=3.6.0 in /usr/local/lib/python3.10/dist-packages (from fr-core-news-sm==3.6.0) (3.6.1)\n",
            "Requirement already satisfied: spacy-legacy<3.1.0,>=3.0.11 in /usr/local/lib/python3.10/dist-packages (from spacy<3.7.0,>=3.6.0->fr-core-news-sm==3.6.0) (3.0.12)\n",
            "Requirement already satisfied: spacy-loggers<2.0.0,>=1.0.0 in /usr/local/lib/python3.10/dist-packages (from spacy<3.7.0,>=3.6.0->fr-core-news-sm==3.6.0) (1.0.5)\n",
            "Requirement already satisfied: murmurhash<1.1.0,>=0.28.0 in /usr/local/lib/python3.10/dist-packages (from spacy<3.7.0,>=3.6.0->fr-core-news-sm==3.6.0) (1.0.10)\n",
            "Requirement already satisfied: cymem<2.1.0,>=2.0.2 in /usr/local/lib/python3.10/dist-packages (from spacy<3.7.0,>=3.6.0->fr-core-news-sm==3.6.0) (2.0.8)\n",
            "Requirement already satisfied: preshed<3.1.0,>=3.0.2 in /usr/local/lib/python3.10/dist-packages (from spacy<3.7.0,>=3.6.0->fr-core-news-sm==3.6.0) (3.0.9)\n",
            "Requirement already satisfied: thinc<8.2.0,>=8.1.8 in /usr/local/lib/python3.10/dist-packages (from spacy<3.7.0,>=3.6.0->fr-core-news-sm==3.6.0) (8.1.12)\n",
            "Requirement already satisfied: wasabi<1.2.0,>=0.9.1 in /usr/local/lib/python3.10/dist-packages (from spacy<3.7.0,>=3.6.0->fr-core-news-sm==3.6.0) (1.1.2)\n",
            "Requirement already satisfied: srsly<3.0.0,>=2.4.3 in /usr/local/lib/python3.10/dist-packages (from spacy<3.7.0,>=3.6.0->fr-core-news-sm==3.6.0) (2.4.8)\n",
            "Requirement already satisfied: catalogue<2.1.0,>=2.0.6 in /usr/local/lib/python3.10/dist-packages (from spacy<3.7.0,>=3.6.0->fr-core-news-sm==3.6.0) (2.0.10)\n",
            "Requirement already satisfied: typer<0.10.0,>=0.3.0 in /usr/local/lib/python3.10/dist-packages (from spacy<3.7.0,>=3.6.0->fr-core-news-sm==3.6.0) (0.9.0)\n",
            "Requirement already satisfied: pathy>=0.10.0 in /usr/local/lib/python3.10/dist-packages (from spacy<3.7.0,>=3.6.0->fr-core-news-sm==3.6.0) (0.10.3)\n",
            "Requirement already satisfied: smart-open<7.0.0,>=5.2.1 in /usr/local/lib/python3.10/dist-packages (from spacy<3.7.0,>=3.6.0->fr-core-news-sm==3.6.0) (6.4.0)\n",
            "Requirement already satisfied: tqdm<5.0.0,>=4.38.0 in /usr/local/lib/python3.10/dist-packages (from spacy<3.7.0,>=3.6.0->fr-core-news-sm==3.6.0) (4.66.1)\n",
            "Requirement already satisfied: numpy>=1.15.0 in /usr/local/lib/python3.10/dist-packages (from spacy<3.7.0,>=3.6.0->fr-core-news-sm==3.6.0) (1.23.5)\n",
            "Requirement already satisfied: requests<3.0.0,>=2.13.0 in /usr/local/lib/python3.10/dist-packages (from spacy<3.7.0,>=3.6.0->fr-core-news-sm==3.6.0) (2.31.0)\n",
            "Requirement already satisfied: pydantic!=1.8,!=1.8.1,<3.0.0,>=1.7.4 in /usr/local/lib/python3.10/dist-packages (from spacy<3.7.0,>=3.6.0->fr-core-news-sm==3.6.0) (1.10.13)\n",
            "Requirement already satisfied: jinja2 in /usr/local/lib/python3.10/dist-packages (from spacy<3.7.0,>=3.6.0->fr-core-news-sm==3.6.0) (3.1.2)\n",
            "Requirement already satisfied: setuptools in /usr/local/lib/python3.10/dist-packages (from spacy<3.7.0,>=3.6.0->fr-core-news-sm==3.6.0) (67.7.2)\n",
            "Requirement already satisfied: packaging>=20.0 in /usr/local/lib/python3.10/dist-packages (from spacy<3.7.0,>=3.6.0->fr-core-news-sm==3.6.0) (23.2)\n",
            "Requirement already satisfied: langcodes<4.0.0,>=3.2.0 in /usr/local/lib/python3.10/dist-packages (from spacy<3.7.0,>=3.6.0->fr-core-news-sm==3.6.0) (3.3.0)\n",
            "Requirement already satisfied: typing-extensions>=4.2.0 in /usr/local/lib/python3.10/dist-packages (from pydantic!=1.8,!=1.8.1,<3.0.0,>=1.7.4->spacy<3.7.0,>=3.6.0->fr-core-news-sm==3.6.0) (4.5.0)\n",
            "Requirement already satisfied: charset-normalizer<4,>=2 in /usr/local/lib/python3.10/dist-packages (from requests<3.0.0,>=2.13.0->spacy<3.7.0,>=3.6.0->fr-core-news-sm==3.6.0) (3.3.2)\n",
            "Requirement already satisfied: idna<4,>=2.5 in /usr/local/lib/python3.10/dist-packages (from requests<3.0.0,>=2.13.0->spacy<3.7.0,>=3.6.0->fr-core-news-sm==3.6.0) (3.4)\n",
            "Requirement already satisfied: urllib3<3,>=1.21.1 in /usr/local/lib/python3.10/dist-packages (from requests<3.0.0,>=2.13.0->spacy<3.7.0,>=3.6.0->fr-core-news-sm==3.6.0) (2.0.7)\n",
            "Requirement already satisfied: certifi>=2017.4.17 in /usr/local/lib/python3.10/dist-packages (from requests<3.0.0,>=2.13.0->spacy<3.7.0,>=3.6.0->fr-core-news-sm==3.6.0) (2023.7.22)\n",
            "Requirement already satisfied: blis<0.8.0,>=0.7.8 in /usr/local/lib/python3.10/dist-packages (from thinc<8.2.0,>=8.1.8->spacy<3.7.0,>=3.6.0->fr-core-news-sm==3.6.0) (0.7.11)\n",
            "Requirement already satisfied: confection<1.0.0,>=0.0.1 in /usr/local/lib/python3.10/dist-packages (from thinc<8.2.0,>=8.1.8->spacy<3.7.0,>=3.6.0->fr-core-news-sm==3.6.0) (0.1.3)\n",
            "Requirement already satisfied: click<9.0.0,>=7.1.1 in /usr/local/lib/python3.10/dist-packages (from typer<0.10.0,>=0.3.0->spacy<3.7.0,>=3.6.0->fr-core-news-sm==3.6.0) (8.1.7)\n",
            "Requirement already satisfied: MarkupSafe>=2.0 in /usr/local/lib/python3.10/dist-packages (from jinja2->spacy<3.7.0,>=3.6.0->fr-core-news-sm==3.6.0) (2.1.3)\n",
            "Installing collected packages: fr-core-news-sm\n",
            "Successfully installed fr-core-news-sm-3.6.0\n",
            "\u001b[38;5;2m✔ Download and installation successful\u001b[0m\n",
            "You can now load the package via spacy.load('fr_core_news_sm')\n",
            "2023-11-21 18:15:35.016172: E tensorflow/compiler/xla/stream_executor/cuda/cuda_dnn.cc:9342] Unable to register cuDNN factory: Attempting to register factory for plugin cuDNN when one has already been registered\n",
            "2023-11-21 18:15:35.016239: E tensorflow/compiler/xla/stream_executor/cuda/cuda_fft.cc:609] Unable to register cuFFT factory: Attempting to register factory for plugin cuFFT when one has already been registered\n",
            "2023-11-21 18:15:35.016276: E tensorflow/compiler/xla/stream_executor/cuda/cuda_blas.cc:1518] Unable to register cuBLAS factory: Attempting to register factory for plugin cuBLAS when one has already been registered\n",
            "2023-11-21 18:15:35.024681: I tensorflow/core/platform/cpu_feature_guard.cc:182] This TensorFlow binary is optimized to use available CPU instructions in performance-critical operations.\n",
            "To enable the following instructions: AVX2 FMA, in other operations, rebuild TensorFlow with the appropriate compiler flags.\n",
            "2023-11-21 18:15:36.622109: W tensorflow/compiler/tf2tensorrt/utils/py_utils.cc:38] TF-TRT Warning: Could not find TensorRT\n",
            "Collecting it-core-news-sm==3.6.0\n",
            "  Downloading https://github.com/explosion/spacy-models/releases/download/it_core_news_sm-3.6.0/it_core_news_sm-3.6.0-py3-none-any.whl (13.0 MB)\n",
            "\u001b[2K     \u001b[90m━━━━━━━━━━━━━━━━━━━━━━━━━━━━━━━━━━━━━━━━\u001b[0m \u001b[32m13.0/13.0 MB\u001b[0m \u001b[31m46.8 MB/s\u001b[0m eta \u001b[36m0:00:00\u001b[0m\n",
            "\u001b[?25hRequirement already satisfied: spacy<3.7.0,>=3.6.0 in /usr/local/lib/python3.10/dist-packages (from it-core-news-sm==3.6.0) (3.6.1)\n",
            "Requirement already satisfied: spacy-legacy<3.1.0,>=3.0.11 in /usr/local/lib/python3.10/dist-packages (from spacy<3.7.0,>=3.6.0->it-core-news-sm==3.6.0) (3.0.12)\n",
            "Requirement already satisfied: spacy-loggers<2.0.0,>=1.0.0 in /usr/local/lib/python3.10/dist-packages (from spacy<3.7.0,>=3.6.0->it-core-news-sm==3.6.0) (1.0.5)\n",
            "Requirement already satisfied: murmurhash<1.1.0,>=0.28.0 in /usr/local/lib/python3.10/dist-packages (from spacy<3.7.0,>=3.6.0->it-core-news-sm==3.6.0) (1.0.10)\n",
            "Requirement already satisfied: cymem<2.1.0,>=2.0.2 in /usr/local/lib/python3.10/dist-packages (from spacy<3.7.0,>=3.6.0->it-core-news-sm==3.6.0) (2.0.8)\n",
            "Requirement already satisfied: preshed<3.1.0,>=3.0.2 in /usr/local/lib/python3.10/dist-packages (from spacy<3.7.0,>=3.6.0->it-core-news-sm==3.6.0) (3.0.9)\n",
            "Requirement already satisfied: thinc<8.2.0,>=8.1.8 in /usr/local/lib/python3.10/dist-packages (from spacy<3.7.0,>=3.6.0->it-core-news-sm==3.6.0) (8.1.12)\n",
            "Requirement already satisfied: wasabi<1.2.0,>=0.9.1 in /usr/local/lib/python3.10/dist-packages (from spacy<3.7.0,>=3.6.0->it-core-news-sm==3.6.0) (1.1.2)\n",
            "Requirement already satisfied: srsly<3.0.0,>=2.4.3 in /usr/local/lib/python3.10/dist-packages (from spacy<3.7.0,>=3.6.0->it-core-news-sm==3.6.0) (2.4.8)\n",
            "Requirement already satisfied: catalogue<2.1.0,>=2.0.6 in /usr/local/lib/python3.10/dist-packages (from spacy<3.7.0,>=3.6.0->it-core-news-sm==3.6.0) (2.0.10)\n",
            "Requirement already satisfied: typer<0.10.0,>=0.3.0 in /usr/local/lib/python3.10/dist-packages (from spacy<3.7.0,>=3.6.0->it-core-news-sm==3.6.0) (0.9.0)\n",
            "Requirement already satisfied: pathy>=0.10.0 in /usr/local/lib/python3.10/dist-packages (from spacy<3.7.0,>=3.6.0->it-core-news-sm==3.6.0) (0.10.3)\n",
            "Requirement already satisfied: smart-open<7.0.0,>=5.2.1 in /usr/local/lib/python3.10/dist-packages (from spacy<3.7.0,>=3.6.0->it-core-news-sm==3.6.0) (6.4.0)\n",
            "Requirement already satisfied: tqdm<5.0.0,>=4.38.0 in /usr/local/lib/python3.10/dist-packages (from spacy<3.7.0,>=3.6.0->it-core-news-sm==3.6.0) (4.66.1)\n",
            "Requirement already satisfied: numpy>=1.15.0 in /usr/local/lib/python3.10/dist-packages (from spacy<3.7.0,>=3.6.0->it-core-news-sm==3.6.0) (1.23.5)\n",
            "Requirement already satisfied: requests<3.0.0,>=2.13.0 in /usr/local/lib/python3.10/dist-packages (from spacy<3.7.0,>=3.6.0->it-core-news-sm==3.6.0) (2.31.0)\n",
            "Requirement already satisfied: pydantic!=1.8,!=1.8.1,<3.0.0,>=1.7.4 in /usr/local/lib/python3.10/dist-packages (from spacy<3.7.0,>=3.6.0->it-core-news-sm==3.6.0) (1.10.13)\n",
            "Requirement already satisfied: jinja2 in /usr/local/lib/python3.10/dist-packages (from spacy<3.7.0,>=3.6.0->it-core-news-sm==3.6.0) (3.1.2)\n",
            "Requirement already satisfied: setuptools in /usr/local/lib/python3.10/dist-packages (from spacy<3.7.0,>=3.6.0->it-core-news-sm==3.6.0) (67.7.2)\n",
            "Requirement already satisfied: packaging>=20.0 in /usr/local/lib/python3.10/dist-packages (from spacy<3.7.0,>=3.6.0->it-core-news-sm==3.6.0) (23.2)\n",
            "Requirement already satisfied: langcodes<4.0.0,>=3.2.0 in /usr/local/lib/python3.10/dist-packages (from spacy<3.7.0,>=3.6.0->it-core-news-sm==3.6.0) (3.3.0)\n",
            "Requirement already satisfied: typing-extensions>=4.2.0 in /usr/local/lib/python3.10/dist-packages (from pydantic!=1.8,!=1.8.1,<3.0.0,>=1.7.4->spacy<3.7.0,>=3.6.0->it-core-news-sm==3.6.0) (4.5.0)\n",
            "Requirement already satisfied: charset-normalizer<4,>=2 in /usr/local/lib/python3.10/dist-packages (from requests<3.0.0,>=2.13.0->spacy<3.7.0,>=3.6.0->it-core-news-sm==3.6.0) (3.3.2)\n",
            "Requirement already satisfied: idna<4,>=2.5 in /usr/local/lib/python3.10/dist-packages (from requests<3.0.0,>=2.13.0->spacy<3.7.0,>=3.6.0->it-core-news-sm==3.6.0) (3.4)\n",
            "Requirement already satisfied: urllib3<3,>=1.21.1 in /usr/local/lib/python3.10/dist-packages (from requests<3.0.0,>=2.13.0->spacy<3.7.0,>=3.6.0->it-core-news-sm==3.6.0) (2.0.7)\n",
            "Requirement already satisfied: certifi>=2017.4.17 in /usr/local/lib/python3.10/dist-packages (from requests<3.0.0,>=2.13.0->spacy<3.7.0,>=3.6.0->it-core-news-sm==3.6.0) (2023.7.22)\n",
            "Requirement already satisfied: blis<0.8.0,>=0.7.8 in /usr/local/lib/python3.10/dist-packages (from thinc<8.2.0,>=8.1.8->spacy<3.7.0,>=3.6.0->it-core-news-sm==3.6.0) (0.7.11)\n",
            "Requirement already satisfied: confection<1.0.0,>=0.0.1 in /usr/local/lib/python3.10/dist-packages (from thinc<8.2.0,>=8.1.8->spacy<3.7.0,>=3.6.0->it-core-news-sm==3.6.0) (0.1.3)\n",
            "Requirement already satisfied: click<9.0.0,>=7.1.1 in /usr/local/lib/python3.10/dist-packages (from typer<0.10.0,>=0.3.0->spacy<3.7.0,>=3.6.0->it-core-news-sm==3.6.0) (8.1.7)\n",
            "Requirement already satisfied: MarkupSafe>=2.0 in /usr/local/lib/python3.10/dist-packages (from jinja2->spacy<3.7.0,>=3.6.0->it-core-news-sm==3.6.0) (2.1.3)\n",
            "Installing collected packages: it-core-news-sm\n",
            "Successfully installed it-core-news-sm-3.6.0\n",
            "\u001b[38;5;2m✔ Download and installation successful\u001b[0m\n",
            "You can now load the package via spacy.load('it_core_news_sm')\n",
            "2023-11-21 18:15:55.200097: E tensorflow/compiler/xla/stream_executor/cuda/cuda_dnn.cc:9342] Unable to register cuDNN factory: Attempting to register factory for plugin cuDNN when one has already been registered\n",
            "2023-11-21 18:15:55.200196: E tensorflow/compiler/xla/stream_executor/cuda/cuda_fft.cc:609] Unable to register cuFFT factory: Attempting to register factory for plugin cuFFT when one has already been registered\n",
            "2023-11-21 18:15:55.200278: E tensorflow/compiler/xla/stream_executor/cuda/cuda_blas.cc:1518] Unable to register cuBLAS factory: Attempting to register factory for plugin cuBLAS when one has already been registered\n",
            "2023-11-21 18:15:55.223526: I tensorflow/core/platform/cpu_feature_guard.cc:182] This TensorFlow binary is optimized to use available CPU instructions in performance-critical operations.\n",
            "To enable the following instructions: AVX2 FMA, in other operations, rebuild TensorFlow with the appropriate compiler flags.\n",
            "2023-11-21 18:15:57.172885: W tensorflow/compiler/tf2tensorrt/utils/py_utils.cc:38] TF-TRT Warning: Could not find TensorRT\n",
            "Collecting es-core-news-sm==3.6.0\n",
            "  Downloading https://github.com/explosion/spacy-models/releases/download/es_core_news_sm-3.6.0/es_core_news_sm-3.6.0-py3-none-any.whl (12.9 MB)\n",
            "\u001b[2K     \u001b[90m━━━━━━━━━━━━━━━━━━━━━━━━━━━━━━━━━━━━━━━━\u001b[0m \u001b[32m12.9/12.9 MB\u001b[0m \u001b[31m56.8 MB/s\u001b[0m eta \u001b[36m0:00:00\u001b[0m\n",
            "\u001b[?25hRequirement already satisfied: spacy<3.7.0,>=3.6.0 in /usr/local/lib/python3.10/dist-packages (from es-core-news-sm==3.6.0) (3.6.1)\n",
            "Requirement already satisfied: spacy-legacy<3.1.0,>=3.0.11 in /usr/local/lib/python3.10/dist-packages (from spacy<3.7.0,>=3.6.0->es-core-news-sm==3.6.0) (3.0.12)\n",
            "Requirement already satisfied: spacy-loggers<2.0.0,>=1.0.0 in /usr/local/lib/python3.10/dist-packages (from spacy<3.7.0,>=3.6.0->es-core-news-sm==3.6.0) (1.0.5)\n",
            "Requirement already satisfied: murmurhash<1.1.0,>=0.28.0 in /usr/local/lib/python3.10/dist-packages (from spacy<3.7.0,>=3.6.0->es-core-news-sm==3.6.0) (1.0.10)\n",
            "Requirement already satisfied: cymem<2.1.0,>=2.0.2 in /usr/local/lib/python3.10/dist-packages (from spacy<3.7.0,>=3.6.0->es-core-news-sm==3.6.0) (2.0.8)\n",
            "Requirement already satisfied: preshed<3.1.0,>=3.0.2 in /usr/local/lib/python3.10/dist-packages (from spacy<3.7.0,>=3.6.0->es-core-news-sm==3.6.0) (3.0.9)\n",
            "Requirement already satisfied: thinc<8.2.0,>=8.1.8 in /usr/local/lib/python3.10/dist-packages (from spacy<3.7.0,>=3.6.0->es-core-news-sm==3.6.0) (8.1.12)\n",
            "Requirement already satisfied: wasabi<1.2.0,>=0.9.1 in /usr/local/lib/python3.10/dist-packages (from spacy<3.7.0,>=3.6.0->es-core-news-sm==3.6.0) (1.1.2)\n",
            "Requirement already satisfied: srsly<3.0.0,>=2.4.3 in /usr/local/lib/python3.10/dist-packages (from spacy<3.7.0,>=3.6.0->es-core-news-sm==3.6.0) (2.4.8)\n",
            "Requirement already satisfied: catalogue<2.1.0,>=2.0.6 in /usr/local/lib/python3.10/dist-packages (from spacy<3.7.0,>=3.6.0->es-core-news-sm==3.6.0) (2.0.10)\n",
            "Requirement already satisfied: typer<0.10.0,>=0.3.0 in /usr/local/lib/python3.10/dist-packages (from spacy<3.7.0,>=3.6.0->es-core-news-sm==3.6.0) (0.9.0)\n",
            "Requirement already satisfied: pathy>=0.10.0 in /usr/local/lib/python3.10/dist-packages (from spacy<3.7.0,>=3.6.0->es-core-news-sm==3.6.0) (0.10.3)\n",
            "Requirement already satisfied: smart-open<7.0.0,>=5.2.1 in /usr/local/lib/python3.10/dist-packages (from spacy<3.7.0,>=3.6.0->es-core-news-sm==3.6.0) (6.4.0)\n",
            "Requirement already satisfied: tqdm<5.0.0,>=4.38.0 in /usr/local/lib/python3.10/dist-packages (from spacy<3.7.0,>=3.6.0->es-core-news-sm==3.6.0) (4.66.1)\n",
            "Requirement already satisfied: numpy>=1.15.0 in /usr/local/lib/python3.10/dist-packages (from spacy<3.7.0,>=3.6.0->es-core-news-sm==3.6.0) (1.23.5)\n",
            "Requirement already satisfied: requests<3.0.0,>=2.13.0 in /usr/local/lib/python3.10/dist-packages (from spacy<3.7.0,>=3.6.0->es-core-news-sm==3.6.0) (2.31.0)\n",
            "Requirement already satisfied: pydantic!=1.8,!=1.8.1,<3.0.0,>=1.7.4 in /usr/local/lib/python3.10/dist-packages (from spacy<3.7.0,>=3.6.0->es-core-news-sm==3.6.0) (1.10.13)\n",
            "Requirement already satisfied: jinja2 in /usr/local/lib/python3.10/dist-packages (from spacy<3.7.0,>=3.6.0->es-core-news-sm==3.6.0) (3.1.2)\n",
            "Requirement already satisfied: setuptools in /usr/local/lib/python3.10/dist-packages (from spacy<3.7.0,>=3.6.0->es-core-news-sm==3.6.0) (67.7.2)\n",
            "Requirement already satisfied: packaging>=20.0 in /usr/local/lib/python3.10/dist-packages (from spacy<3.7.0,>=3.6.0->es-core-news-sm==3.6.0) (23.2)\n",
            "Requirement already satisfied: langcodes<4.0.0,>=3.2.0 in /usr/local/lib/python3.10/dist-packages (from spacy<3.7.0,>=3.6.0->es-core-news-sm==3.6.0) (3.3.0)\n",
            "Requirement already satisfied: typing-extensions>=4.2.0 in /usr/local/lib/python3.10/dist-packages (from pydantic!=1.8,!=1.8.1,<3.0.0,>=1.7.4->spacy<3.7.0,>=3.6.0->es-core-news-sm==3.6.0) (4.5.0)\n",
            "Requirement already satisfied: charset-normalizer<4,>=2 in /usr/local/lib/python3.10/dist-packages (from requests<3.0.0,>=2.13.0->spacy<3.7.0,>=3.6.0->es-core-news-sm==3.6.0) (3.3.2)\n",
            "Requirement already satisfied: idna<4,>=2.5 in /usr/local/lib/python3.10/dist-packages (from requests<3.0.0,>=2.13.0->spacy<3.7.0,>=3.6.0->es-core-news-sm==3.6.0) (3.4)\n",
            "Requirement already satisfied: urllib3<3,>=1.21.1 in /usr/local/lib/python3.10/dist-packages (from requests<3.0.0,>=2.13.0->spacy<3.7.0,>=3.6.0->es-core-news-sm==3.6.0) (2.0.7)\n",
            "Requirement already satisfied: certifi>=2017.4.17 in /usr/local/lib/python3.10/dist-packages (from requests<3.0.0,>=2.13.0->spacy<3.7.0,>=3.6.0->es-core-news-sm==3.6.0) (2023.7.22)\n",
            "Requirement already satisfied: blis<0.8.0,>=0.7.8 in /usr/local/lib/python3.10/dist-packages (from thinc<8.2.0,>=8.1.8->spacy<3.7.0,>=3.6.0->es-core-news-sm==3.6.0) (0.7.11)\n",
            "Requirement already satisfied: confection<1.0.0,>=0.0.1 in /usr/local/lib/python3.10/dist-packages (from thinc<8.2.0,>=8.1.8->spacy<3.7.0,>=3.6.0->es-core-news-sm==3.6.0) (0.1.3)\n",
            "Requirement already satisfied: click<9.0.0,>=7.1.1 in /usr/local/lib/python3.10/dist-packages (from typer<0.10.0,>=0.3.0->spacy<3.7.0,>=3.6.0->es-core-news-sm==3.6.0) (8.1.7)\n",
            "Requirement already satisfied: MarkupSafe>=2.0 in /usr/local/lib/python3.10/dist-packages (from jinja2->spacy<3.7.0,>=3.6.0->es-core-news-sm==3.6.0) (2.1.3)\n",
            "Installing collected packages: es-core-news-sm\n",
            "Successfully installed es-core-news-sm-3.6.0\n",
            "\u001b[38;5;2m✔ Download and installation successful\u001b[0m\n",
            "You can now load the package via spacy.load('es_core_news_sm')\n"
          ]
        }
      ],
      "source": [
        "!spacy download en_core_web_sm\n",
        "!spacy download de_core_news_sm\n",
        "!spacy download fr_core_news_sm\n",
        "!spacy download it_core_news_sm\n",
        "!spacy download es_core_news_sm"
      ]
    },
    {
      "cell_type": "code",
      "execution_count": null,
      "metadata": {
        "id": "ZQpRAnvHB5cO",
        "colab": {
          "base_uri": "https://localhost:8080/"
        },
        "outputId": "b1b6a556-cb13-47bd-972f-9e9a041a7d8b"
      },
      "outputs": [
        {
          "output_type": "stream",
          "name": "stdout",
          "text": [
            "Num. palabras unicas en spa:  50001\n",
            "Num. 2 palabras asociadas en spa:  100001\n",
            "Num. palabras unicas en eng:  3136241\n",
            "Num. 2 palabras asociadas en eng:  5866953\n",
            "Num. palabras unicas en ger:  50001\n",
            "Num. 2 palabras asociadas en ger:  100001\n",
            "Num. palabras unicas en fre:  50001\n",
            "Num. 2 palabras asociadas en fre:  100001\n",
            "[Language.ENGLISH, Language.SPANISH, Language.ITALIAN, Language.GERMAN, Language.FRENCH]\n",
            "<builtins.LanguageDetector object at 0x7b0154206bf0>\n"
          ]
        }
      ],
      "source": [
        "import time\n",
        "import traceback\n",
        "import uuid\n",
        "import os\n",
        "import spacy\n",
        "import json\n",
        "\n",
        "import lingua\n",
        "\n",
        "# Spacy\n",
        "\n",
        "spacy_models = json.loads('''{\n",
        "\t\"bul\": {\"sm\": null, \"lg\": null},\n",
        "\t\"hrv\": {\"sm\": \"hr_core_news_sm\", \"lg\": \"hr_core_news_lg\"},\n",
        "\t\"cze\": {\"sm\": null, \"lg\": null},\n",
        "\t\"dan\": {\"sm\": \"da_core_news_sm\", \"lg\": \"da_core_news_trf\"},\n",
        "\t\"dut\": {\"sm\": \"nl_core_news_sm\", \"lg\": \"nl_core_news_lg\"},\n",
        "\t\"eng\": {\"sm\": \"en_core_web_sm\", \"lg\": \"en_core_web_trf\"},\n",
        "\t\"est\": {\"sm\": null, \"lg\": null},\n",
        "\t\"fin\": {\"sm\": \"fi_core_news_sm\", \"lg\": \"fi_core_news_lg\"},\n",
        "\t\"fre\": {\"sm\": \"fr_core_news_sm\", \"lg\": \"fr_dep_news_trf\"},\n",
        "\t\"ger\": {\"sm\": \"de_core_news_sm\", \"lg\": \"de_dep_news_trf\"},\n",
        "\t\"gre\": {\"sm\": \"el_core_news_sm\", \"lg\": \"el_core_news_lg\"},\n",
        "\t\"hun\": {\"sm\": null, \"lg\": null},\n",
        "\t\"gle\": {\"sm\": null, \"lg\": null},\n",
        "\t\"ita\": {\"sm\": \"it_core_news_sm\", \"lg\": \"it_core_news_lg\"},\n",
        "\t\"lav\": {\"sm\": null, \"lg\": null},\n",
        "\t\"lit\": {\"sm\": \"lt_core_news_sm\", \"lg\": \"lt_core_news_lg\"},\n",
        "\t\"mlt\": {\"sm\": null, \"lg\": null},\n",
        "\t\"pol\": {\"sm\": \"pl_core_news_sm\", \"lg\": \"pl_core_news_lg\"},\n",
        "\t\"por\": {\"sm\": \"pt_core_news_sm\", \"lg\": \"pt_core_news_lg\"},\n",
        "\t\"rum\": {\"sm\": \"ro_core_news_sm\", \"lg\": \"ro_core_news_lg\"},\n",
        "\t\"rus\": {\"sm\": \"ru_core_news_sm\", \"lg\": \"ru_core_news_lg\"},\n",
        "\t\"slo\": {\"sm\": null, \"lg\": null},\n",
        "\t\"slv\": {\"sm\": null, \"lg\": null},\n",
        "\t\"spa\": {\"sm\": \"es_core_news_sm\", \"lg\": \"es_dep_news_trf\"},\n",
        "\t\"swe\": {\"sm\": null, \"lg\": null}\n",
        "}''')\n",
        "\n",
        "\n",
        "freq_list = {\"spa\": {}, \"ger\": {}, \"fre\": {}, \"eng\": {}, \"ita\": {}}\n",
        "\n",
        "freq_list[\"spa\"][\"1-gram\"] = open(\"./freq/spa/spa-1gram.txt\").read().split(\"\\n\")\n",
        "freq_list[\"ger\"][\"1-gram\"] = open(\"./freq/ger/ger-1gram.txt\").read().split(\"\\n\")\n",
        "freq_list[\"fre\"][\"1-gram\"] = open(\"./freq/fre/fre-1gram.txt\").read().split(\"\\n\")\n",
        "freq_list[\"eng\"][\"1-gram\"] = open(\"./freq/eng/eng-1gram.txt\").read().split(\"\\n\")\n",
        "freq_list[\"ita\"][\"1-gram\"] = open(\"./freq/ita/ita-1gram.txt\").read().split(\"\\n\")\n",
        "\n",
        "freq_list[\"spa\"][\"2-gram\"] = open(\"./freq/spa/spa-2gram.txt\").read().split(\"\\n\")\n",
        "freq_list[\"ger\"][\"2-gram\"] = open(\"./freq/ger/ger-2gram.txt\").read().split(\"\\n\")\n",
        "freq_list[\"fre\"][\"2-gram\"] = open(\"./freq/fre/fre-2gram.txt\").read().split(\"\\n\")\n",
        "freq_list[\"eng\"][\"2-gram\"] = open(\"./freq/eng/eng-2gram.txt\").read().split(\"\\n\")\n",
        "freq_list[\"ita\"][\"2-gram\"] = open(\"./freq/ita/ita-2gram.txt\").read().split(\"\\n\")\n",
        "## --->\n",
        "print(\"Num. palabras unicas en spa: \",len(freq_list[\"spa\"][\"1-gram\"]))\n",
        "print(\"Num. 2 palabras asociadas en spa: \", len(freq_list[\"spa\"][\"2-gram\"]))\n",
        "#print(freq_list[\"spa\"][\"1-gram\"])\n",
        "#print(freq_list[\"spa\"][\"2-gram\"])\n",
        "print(\"Num. palabras unicas en eng: \", len(freq_list[\"eng\"][\"1-gram\"]))\n",
        "print(\"Num. 2 palabras asociadas en eng: \", len(freq_list[\"eng\"][\"2-gram\"]))\n",
        "#print(freq_list[\"eng\"][\"1-gram\"])\n",
        "#print(freq_list[\"eng\"][\"2-gram\"])\n",
        "print(\"Num. palabras unicas en ger: \", len(freq_list[\"ger\"][\"1-gram\"]))\n",
        "print(\"Num. 2 palabras asociadas en ger: \", len(freq_list[\"ger\"][\"2-gram\"]))\n",
        "#print(freq_list[\"ger\"][\"1-gram\"])\n",
        "#print(freq_list[\"ger\"][\"2-gram\"])\n",
        "print(\"Num. palabras unicas en fre: \", len(freq_list[\"fre\"][\"1-gram\"]))\n",
        "print(\"Num. 2 palabras asociadas en fre: \", len(freq_list[\"fre\"][\"2-gram\"]))\n",
        "#print(freq_list[\"fre\"][\"1-gram\"])\n",
        "#print(freq_list[\"fre\"][\"2-gram\"])\n",
        "## --->\n",
        "lingua_langs = {\n",
        "\t\t\"eng\": lingua.Language.ENGLISH,\n",
        "\t\t\"spa\": lingua.Language.SPANISH,\n",
        "\t\t\"ita\": lingua.Language.ITALIAN,\n",
        "\t\t\"ger\": lingua.Language.GERMAN,\n",
        "\t\t\"fre\": lingua.Language.FRENCH\n",
        "\t}\n",
        "\n",
        "langs_used = [v for k,v in lingua_langs.items()]\n",
        "## --->\n",
        "print(langs_used)\n",
        "## --->\n",
        "lang_detector = lingua.LanguageDetectorBuilder.from_languages(*langs_used).build()\n",
        "## --->\n",
        "print (lang_detector)\n",
        "## --->"
      ]
    },
    {
      "cell_type": "code",
      "source": [
        "example = open(\"./extract/spa/occupational_therapy/terms.txt\").readlines()\n",
        "## -->\n",
        "print(\"Total de terminos a filtrar spa: \", len(example))\n"
      ],
      "metadata": {
        "colab": {
          "base_uri": "https://localhost:8080/"
        },
        "id": "dJahkNKdKS6_",
        "outputId": "6fa23796-1ed5-4590-bbc1-7eb53f269aea"
      },
      "execution_count": null,
      "outputs": [
        {
          "output_type": "stream",
          "name": "stdout",
          "text": [
            "Total de terminos a filtrar spa:  7581\n"
          ]
        }
      ]
    },
    {
      "cell_type": "code",
      "source": [
        "## -->\n",
        "terms = filter_terms(example, \"spa\")\n",
        "## -->\n"
      ],
      "metadata": {
        "id": "z3ueXR9PNuvB"
      },
      "execution_count": null,
      "outputs": []
    },
    {
      "cell_type": "code",
      "source": [
        "## -->\n",
        "print(\"Total terminos filtrados spa: \", len(terms))\n",
        "#print(\"Terminos filtrados\", terms)\n",
        "## -->"
      ],
      "metadata": {
        "colab": {
          "base_uri": "https://localhost:8080/"
        },
        "id": "TJ7PlJr0OQ_I",
        "outputId": "cc2a7cfd-a755-46d6-a2d6-3be80cd08c4d"
      },
      "execution_count": null,
      "outputs": [
        {
          "output_type": "stream",
          "name": "stdout",
          "text": [
            "Total terminos filtrados spa:  1225\n"
          ]
        }
      ]
    },
    {
      "cell_type": "code",
      "source": [
        "terms = lemmatize_terms(terms, \"spa\")\n",
        "## -->\n",
        "print(\"Total terminos lematizados spa: \", len(terms))\n",
        "#print(\"Terminos lematizados: \", terms)\n",
        "## -->\n",
        "# Matriz Confusion\n",
        "# Definimos el listado inicial como A y el listado final como B, los valores de la matriz los podemos razonar de la siguiente forma:\n",
        "# A :terminos a filtrar  SPA ; B: Términos filtrados y lematizados\n",
        "#TP: la intersección de A y B\n",
        "#FP: los valores de A no contenidos en B\n",
        "#FN: los valores de B no contenidos en A\n",
        "#TN: ¿?\n",
        "\n",
        "# TP      FN\n",
        "# FP      TN\n",
        "#----------->\n",
        "# 1.197   0\n",
        "# 6.654   0\n",
        "\n",
        "print(\"PRECISION = TP /(TP + FP) =\" , 1197 / 7581)"
      ],
      "metadata": {
        "colab": {
          "base_uri": "https://localhost:8080/"
        },
        "id": "r_7xqI0gOjDB",
        "outputId": "657b9133-d2c1-41ff-bd21-eb1ed917bbee"
      },
      "execution_count": null,
      "outputs": [
        {
          "output_type": "stream",
          "name": "stdout",
          "text": [
            "Total terminos lematizados spa:  1197\n",
            "PRECISION = TP /(TP + FP) = 0.15789473684210525\n"
          ]
        }
      ]
    },
    {
      "cell_type": "code",
      "source": [
        "example = open(\"./extract/ger/occupational_therapy/terms.txt\").readlines()\n",
        "## -->\n",
        "print(\"Total de terminos a fltrar ger: \", len(example))"
      ],
      "metadata": {
        "colab": {
          "base_uri": "https://localhost:8080/"
        },
        "id": "SeAR2VsHP5ga",
        "outputId": "18ad7504-3baf-40de-8ac2-34ce6602256d"
      },
      "execution_count": null,
      "outputs": [
        {
          "output_type": "stream",
          "name": "stdout",
          "text": [
            "Total de terminos a fltrar ger:  4001\n"
          ]
        }
      ]
    },
    {
      "cell_type": "code",
      "source": [
        "## -->\n",
        "terms = filter_terms(example, \"ger\")\n",
        "## -->"
      ],
      "metadata": {
        "id": "hjh-Sg0PP59g"
      },
      "execution_count": null,
      "outputs": []
    },
    {
      "cell_type": "code",
      "source": [
        "print(\"Total terminos filtrados ger\", len(terms))\n",
        "#print(\"Terminos filtrados\", terms)\n",
        "## -->"
      ],
      "metadata": {
        "colab": {
          "base_uri": "https://localhost:8080/"
        },
        "id": "8QccEws3P6ZP",
        "outputId": "58d59f99-74b9-4c31-98da-7781b5c90596"
      },
      "execution_count": null,
      "outputs": [
        {
          "output_type": "stream",
          "name": "stdout",
          "text": [
            "Total terminos filtrados ger 1210\n"
          ]
        }
      ]
    },
    {
      "cell_type": "code",
      "source": [
        "terms = lemmatize_terms(terms, \"ger\")\n",
        "## -->\n",
        "print(\"Total terminos lematizados ger: \", len(terms))\n",
        "#print(\"Terminos lematizados: \", terms)\n",
        "## -->\n",
        "# Matriz Confusion\n",
        "# Definimos el listado inicial como A y el listado final como B, los valores de la matriz los podemos razonar de la siguiente forma:\n",
        "# A :terminos a filtrar  GER ; B: Términos filtrados y lematizados\n",
        "#TP: la intersección de A y B\n",
        "#FP: los valores de A no contenidos en B\n",
        "#FN: los valores de B no contenidos en A\n",
        "#TN: ¿?\n",
        "\n",
        "# TP      FN\n",
        "# FP      TN\n",
        "#----------->\n",
        "# 1.157   0\n",
        "# 2.844   0\n",
        "\n",
        "print(\"PRECISION = TP /(TP + FP) =\" , 1157 / 4001)"
      ],
      "metadata": {
        "colab": {
          "base_uri": "https://localhost:8080/"
        },
        "id": "oPnjGByeP6zf",
        "outputId": "726b104b-bc37-45fd-bd6b-571781616533"
      },
      "execution_count": null,
      "outputs": [
        {
          "output_type": "stream",
          "name": "stdout",
          "text": [
            "Total terminos lematizados ger:  1157\n",
            "PRECISION = TP /(TP + FP) = 0.2891777055736066\n"
          ]
        }
      ]
    },
    {
      "cell_type": "code",
      "source": [
        "example = open(\"./extract/fre/occupational_therapy/terms.txt\").readlines()\n",
        "## -->\n",
        "print(\"Total de terminos a filtrar fre: \", len(example))"
      ],
      "metadata": {
        "colab": {
          "base_uri": "https://localhost:8080/"
        },
        "id": "MZ23nncPQaCL",
        "outputId": "29ce752c-db4f-46cf-d382-a32eb79e81b2"
      },
      "execution_count": null,
      "outputs": [
        {
          "output_type": "stream",
          "name": "stdout",
          "text": [
            "Total de terminos a filtrar fre:  5742\n"
          ]
        }
      ]
    },
    {
      "cell_type": "code",
      "source": [
        "terms = filter_terms(example, \"fre\")"
      ],
      "metadata": {
        "id": "AlFwY_LzQaY4"
      },
      "execution_count": null,
      "outputs": []
    },
    {
      "cell_type": "code",
      "source": [
        "## -->\n",
        "print(\"Total terminos filtrados fre\", len(terms))\n",
        "#print(\"Terminos filtrados\", terms)\n",
        "## -->"
      ],
      "metadata": {
        "colab": {
          "base_uri": "https://localhost:8080/"
        },
        "id": "qQzRr2rfQauw",
        "outputId": "faa2deee-256c-40ca-9e23-716931bbb7d9"
      },
      "execution_count": null,
      "outputs": [
        {
          "output_type": "stream",
          "name": "stdout",
          "text": [
            "Total terminos filtrados fre 1015\n"
          ]
        }
      ]
    },
    {
      "cell_type": "code",
      "source": [
        "## -->\n",
        "terms = lemmatize_terms(terms, \"fre\")\n",
        "## -->\n",
        "print(\"Total terminos lematizados fre: \", len(terms))\n",
        "#print(\"Terminos lematizados: \", terms)\n",
        "## -->\n",
        "# Matriz Confusion\n",
        "# Definimos el listado inicial como A y el listado final como B, los valores de la matriz los podemos razonar de la siguiente forma:\n",
        "# A :terminos a filtrar  FRE ; B: Términos filtrados y lematizados\n",
        "#TP: la intersección de A y B\n",
        "#FP: los valores de A no contenidos en B\n",
        "#FN: los valores de B no contenidos en A\n",
        "#TN: ¿?\n",
        "\n",
        "# TP      FN\n",
        "# FP      TN\n",
        "#----------->\n",
        "#   981    0\n",
        "# 4.761    0\n",
        "\n",
        "print(\"PRECISION = TP /(TP + FP) =\" , 981 / 5742)"
      ],
      "metadata": {
        "colab": {
          "base_uri": "https://localhost:8080/"
        },
        "id": "_wFUYS8NQbEJ",
        "outputId": "495eb1d7-bd16-4441-c8e1-03196e8543f4"
      },
      "execution_count": null,
      "outputs": [
        {
          "output_type": "stream",
          "name": "stdout",
          "text": [
            "Total terminos lematizados fre:  981\n",
            "PRECISION = TP /(TP + FP) = 0.17084639498432602\n"
          ]
        }
      ]
    },
    {
      "cell_type": "code",
      "source": [
        "example = open(\"./extract/eng/occupational_therapy/terms.txt\").readlines()\n",
        "## -->\n",
        "print(\"Total de terminos a filtrar eng: \", len(example))"
      ],
      "metadata": {
        "colab": {
          "base_uri": "https://localhost:8080/"
        },
        "id": "xUXkN0GOROFc",
        "outputId": "db838086-8f91-46ce-acd7-592f98f8b799"
      },
      "execution_count": null,
      "outputs": [
        {
          "output_type": "stream",
          "name": "stdout",
          "text": [
            "Total de terminos a filtrar eng:  4902\n"
          ]
        }
      ]
    },
    {
      "cell_type": "code",
      "source": [
        "terms = filter_terms(example, \"eng\")"
      ],
      "metadata": {
        "id": "yTtHjuZmROax"
      },
      "execution_count": null,
      "outputs": []
    },
    {
      "cell_type": "code",
      "source": [
        "## -->\n",
        "print(\"Total terminos filtrados eng\", len(terms))\n",
        "#print(\"Terminos filtrados\", terms)\n",
        "## -->"
      ],
      "metadata": {
        "colab": {
          "base_uri": "https://localhost:8080/"
        },
        "id": "nVP5rNgrROwJ",
        "outputId": "b81e9609-b63a-4acb-c561-537e5155f77a"
      },
      "execution_count": null,
      "outputs": [
        {
          "output_type": "stream",
          "name": "stdout",
          "text": [
            "Total terminos filtrados eng 831\n"
          ]
        }
      ]
    },
    {
      "cell_type": "code",
      "source": [
        "## -->\n",
        "terms = lemmatize_terms(terms, \"eng\")\n",
        "## -->\n",
        "print(\"Total terminos lematizados eng: \", len(terms))\n",
        "#print(\"Terminos lematizados: \", terms)\n",
        "## -->\n",
        "# Matriz Confusion\n",
        "# Definimos el listado inicial como A y el listado final como B, los valores de la matriz los podemos razonar de la siguiente forma:\n",
        "# A :terminos a filtrar  ENG ; B: Términos filtrados y lematizados\n",
        "#TP: la intersección de A y B\n",
        "#FP: los valores de A no contenidos en B\n",
        "#FN: los valores de B no contenidos en A\n",
        "#TN: ¿?\n",
        "\n",
        "# TP      FN\n",
        "# FP      TN\n",
        "#----------->\n",
        "# 786   0\n",
        "# 4116   0\n",
        "\n",
        "print(\"PRECISION = TP /(TP + FP) =\" , 786/ 4902)"
      ],
      "metadata": {
        "colab": {
          "base_uri": "https://localhost:8080/"
        },
        "id": "X_vEMlGzRPDR",
        "outputId": "c3e2990a-efe6-43d0-f305-d1f86703fac3"
      },
      "execution_count": null,
      "outputs": [
        {
          "output_type": "stream",
          "name": "stdout",
          "text": [
            "Total terminos lematizados eng:  786\n",
            "PRECISION = TP /(TP + FP) = 0.1601387188902489\n"
          ]
        }
      ]
    },
    {
      "cell_type": "code",
      "execution_count": null,
      "metadata": {
        "id": "NiEWgGzSMXAf"
      },
      "outputs": [],
      "source": [
        "def filter_terms(lines, lang):\n",
        "\n",
        "\tterms = {}\n",
        "\t#filter_deep_1g = 50000\n",
        "\t#filter_deep_2g = 1000000\n",
        "\tfilter_deep_1g = 3200000\n",
        "\tfilter_deep_2g = 6000000\n",
        "\n",
        "\tdict_1g = {}\n",
        "\tdict_2g = {}\n",
        "\n",
        "\n",
        "\tif (lang in freq_list) and (\"1-gram\" in freq_list[lang]):\n",
        "\n",
        "\t\tlower_list = [t.lower() for t in freq_list[lang][\"1-gram\"][:filter_deep_1g]]\n",
        "\n",
        "\t\tdict_1g = dict(zip(lower_list, range(len(lower_list))))\n",
        "## --->\n",
        "#\tprint (dict_1g)\n",
        "## --->\n",
        "\tif (lang in freq_list) and (\"2-gram\" in freq_list[lang]):\n",
        "\n",
        "\t\tlower_list = [t.lower() for t in freq_list[lang][\"2-gram\"][:filter_deep_2g]]\n",
        "\n",
        "\t\tdict_2g = dict(zip(lower_list, range(len(lower_list))))\n",
        "## --->\n",
        "#\tprint(dict_2g)\n",
        "## --->\n",
        "\n",
        "\tfor term in lines:\n",
        "\n",
        "\t\tfreq, term = term.replace(\"\\n\", \"\").split(\"\\t\")\n",
        "\n",
        "\t\tterm = term.replace(\"-\", \" \").replace(\"  \", \" \")\n",
        "\n",
        "\t\tif (lang in freq_list) and (\"1-gram\" in freq_list[lang]) and (term.lower() in dict_1g):\n",
        "\n",
        "\t\t\tprint(\"Excluding\", term, \"(too freq 1-gram)\")\n",
        "\n",
        "\n",
        "\t\telif (lang in freq_list) and (\"2-gram\" in freq_list[lang]) and (term.lower() in dict_2g):\n",
        "\n",
        "\t\t\tprint(\"Excluding\", term, \"(too freq 2-gram)\")\n",
        "\n",
        "\n",
        "\t\telif any(len(word) < 4 for word in term.split(\" \")):\n",
        "\n",
        "\t\t\tprint(\"Excluding\", term, \"(too short)\")\n",
        "\n",
        "\n",
        "\t\telif not term.replace(\" \", \"\").replace(\"'\", \"\").replace(\"-\",\"\").isalpha() or term.replace(\" \", \"\").startswith(\"-\") or term.replace(\" \", \"\").endswith(\"-\"):\n",
        "\n",
        "\t\t\tprint(\"Excluding\", term, \"(strange symbols)\")\n",
        "\n",
        "\t\telse:\n",
        "\n",
        "\t\t\tprint(\"Adding\", term)\n",
        "\n",
        "\t\t\tterms[term] = {\"f\": freq}\n",
        "\n",
        "\n",
        "\t# Las diferencias de capitalizacion se resuelven optando por la version mas habitual\n",
        "\n",
        "\tfor term, obj in terms.copy().items():\n",
        "\n",
        "\t\tif term.lower() != term and term.lower() in terms:\n",
        "\n",
        "\t\t\tif int(terms[term.lower()][\"f\"]) > int(terms[term][\"f\"]):\n",
        "\n",
        "\t\t\t\tterms.pop(term)\n",
        "\n",
        "\t\t\t\tprint(\"Excluding\", term, \"(duplicated and less frequent capitalization)\")\n",
        "\n",
        "\t\t\telse:\n",
        "\n",
        "\t\t\t\tterms.pop(term.lower())\n",
        "\n",
        "\t\tprint(\"Excluding\", term.lower(), \"(duplicated and less frequent capitalization)\")\n",
        "\n",
        "\n",
        "\tvalid_NE = [\"EVENT\", \"FAC\", \"ORG\", \"WORK_OF_ART\"]\n",
        "\n",
        "\tpipe = spacy.load(spacy_models[lang][\"sm\"])\n",
        "\n",
        "\tfor term, obj in terms.copy().items():\n",
        "\n",
        "\t\tdoc = pipe(term)\n",
        "\n",
        "\t\tfor token in doc.ents:\n",
        "\n",
        "\t\t\tprint(\"Found NE: \", token.text, token.label_)\n",
        "\n",
        "\t\t\tif not (token.label_ in valid_NE) and term in terms:\n",
        "\n",
        "\t\t\t\tterms.pop(term)\n",
        "\n",
        "\n",
        "\tfor term, obj in terms.copy().items():\n",
        "\n",
        "\t\tdetected = lang_detector.detect_language_of(term)\n",
        "\n",
        "\t\tprint(term, detected)\n",
        "\n",
        "\t\tif lang in lingua_langs and detected != lingua_langs[lang]:\n",
        "\n",
        "\t\t\tterms.pop(term)\n",
        "\n",
        "\n",
        "\treturn terms"
      ]
    },
    {
      "cell_type": "code",
      "execution_count": null,
      "metadata": {
        "id": "5FH0edJrB073"
      },
      "outputs": [],
      "source": [
        "def lemmatize_terms(terms, lang):\n",
        "\n",
        "\tlemmatized_terms = {}\n",
        "\n",
        "\tpipe = spacy.load(spacy_models[lang][\"sm\"])\n",
        "\n",
        "\tterm_list_old = list(terms.keys())\n",
        "\n",
        "\tfor term in term_list_old:\n",
        "\n",
        "\t\tdoc = pipe(term)\n",
        "\n",
        "\t\tfull_token = []\n",
        "\n",
        "\t\tfor token in doc:\n",
        "\n",
        "\t\t\tfull_token.append(token.lemma_)\n",
        "\n",
        "\t\tlemma = \" \".join(full_token)\n",
        "\n",
        "\t\tif term in terms:\n",
        "\n",
        "\t\t\told_f = terms[term]\n",
        "\n",
        "\t\t\tif lemma in lemmatized_terms:\n",
        "\n",
        "\t\t\t\tcurrent_f = lemmatized_terms[lemma]\n",
        "\n",
        "\t\t\t\tnew_f = current_f[\"f\"] + old_f[\"f\"] # Varias palabras convergen en una raíz\n",
        "\n",
        "\t\t\t\tlemmatized_terms[lemma] = {\"f\": new_f}\n",
        "\n",
        "\t\t\telse:\n",
        "\n",
        "\t\t\t\tlemmatized_terms[lemma] = {\"f\": old_f[\"f\"]}\n",
        "\n",
        "\t# Se reaplica filtrado a las palabras luego de filtrarlas, esto estaría\n",
        "  # mejor hacerlo de otra forma, hay código repetido\n",
        "\n",
        "#\tfilter_deep_1g = 25000\n",
        "#\tfilter_deep_2g = 1000000\n",
        "\tfilter_deep_1g = 3200000\n",
        "\tfilter_deep_2g = 6000000\n",
        "\n",
        "\tdict_1g = {}\n",
        "\tdict_2g = {}\n",
        "\n",
        "\tif (lang in freq_list) and (\"1-gram\" in freq_list[lang]):\n",
        "\n",
        "\t\tlower_list = [t.lower() for t in freq_list[lang][\"1-gram\"][:filter_deep_1g]]\n",
        "\n",
        "\t\tdict_1g = dict(zip(lower_list, range(len(lower_list))))\n",
        "\n",
        "\tif (lang in freq_list) and (\"2-gram\" in freq_list[lang]):\n",
        "\n",
        "\t\tlower_list = [t.lower() for t in freq_list[lang][\"2-gram\"][:filter_deep_2g]]\n",
        "\n",
        "\t\tdict_2g = dict(zip(lower_list, range(len(lower_list))))\n",
        "\n",
        "\n",
        "\tfor term in lemmatized_terms.copy().keys():\n",
        "\n",
        "    # Solo se extá empleando en \"eng\" porque la lematización en otras cambia\n",
        "    # también otras flexiones y es algo a evitar.\n",
        "\n",
        "\t\tif lang == \"eng\":\n",
        "\n",
        "\t\t\tif (term.lower() in dict_1g):\n",
        "\n",
        "#\t\t\t\tprint(\"Excluding\", term, \"(too freq 1-gram) lemma\")\n",
        "\n",
        "\t\t\t\tlemmatized_terms.pop(term)\n",
        "\n",
        "\t\t\telif (term.lower() in dict_2g):\n",
        "\n",
        "\t#\t\t\tprint(\"Excluding\", term, \"(too freq 2-gram) lemma\")\n",
        "\n",
        "\t\t\t\tlemmatized_terms.pop(term)\n",
        "\n",
        "\treturn lemmatized_terms\n"
      ]
    }
  ],
  "metadata": {
    "colab": {
      "provenance": [],
      "include_colab_link": true
    },
    "kernelspec": {
      "display_name": "Python 3",
      "name": "python3"
    },
    "language_info": {
      "codemirror_mode": {
        "name": "ipython",
        "version": 3
      },
      "file_extension": ".py",
      "mimetype": "text/x-python",
      "name": "python",
      "nbconvert_exporter": "python",
      "pygments_lexer": "ipython3",
      "version": "3.9.7"
    }
  },
  "nbformat": 4,
  "nbformat_minor": 0
}