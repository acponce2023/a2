{
  "nbformat": 4,
  "nbformat_minor": 0,
  "metadata": {
    "colab": {
      "provenance": [],
      "include_colab_link": true
    },
    "kernelspec": {
      "name": "python3",
      "display_name": "Python 3"
    },
    "language_info": {
      "name": "python"
    }
  },
  "cells": [
    {
      "cell_type": "markdown",
      "metadata": {
        "id": "view-in-github",
        "colab_type": "text"
      },
      "source": [
        "<a href=\"https://colab.research.google.com/github/acponce2023/a2/blob/main/Ejemplo_V0.ipynb\" target=\"_parent\"><img src=\"https://colab.research.google.com/assets/colab-badge.svg\" alt=\"Open In Colab\"/></a>"
      ]
    },
    {
      "cell_type": "markdown",
      "source": [
        "Muestra de glosario, terapia ocupacional"
      ],
      "metadata": {
        "id": "4iTJInF0Qcz8"
      }
    },
    {
      "cell_type": "code",
      "source": [
        "from google.colab import drive\n",
        "drive.mount('/content/drive')"
      ],
      "metadata": {
        "colab": {
          "base_uri": "https://localhost:8080/"
        },
        "id": "w0KfKNcXOjD6",
        "outputId": "98a79196-b108-4d67-df9f-9a6d72b6d06a"
      },
      "execution_count": 2,
      "outputs": [
        {
          "output_type": "stream",
          "name": "stdout",
          "text": [
            "Drive already mounted at /content/drive; to attempt to forcibly remount, call drive.mount(\"/content/drive\", force_remount=True).\n"
          ]
        }
      ]
    },
    {
      "cell_type": "code",
      "execution_count": 3,
      "metadata": {
        "colab": {
          "base_uri": "https://localhost:8080/"
        },
        "id": "VXZvDn9fOlDU",
        "outputId": "145ab575-0f15-4f81-e7d0-02a1afc759a4"
      },
      "outputs": [
        {
          "output_type": "stream",
          "name": "stdout",
          "text": [
            "Términos extraídos eng: 277\n",
            "Términos válidos eng: 749\n",
            "Terminos en comun eng: 133\n",
            "PRECISION = TP /(TP + FP) = 0.48014440433212996\n"
          ]
        }
      ],
      "source": [
        "import json\n",
        "\n",
        "# Los ficheros deben estar cargados en la sesión de Colab para que funcione esto\n",
        "\n",
        "raw_data = json.loads(open(\"drive/MyDrive/raw_occupational_therapy_eng.json\").read())\n",
        "gold_data = json.loads(open(\"drive/MyDrive/gold_occupational_therapy_eng.json\").read())\n",
        "\n",
        "#print(raw_extracted)\n",
        "#print(raw_data)\n",
        "#print(gold_data)\n",
        "\n",
        "raw_terms = [term['forms']['eng'][0]['text'] for term in raw_data]\n",
        "gold_terms = [term['forms']['eng'][0]['text'] for term in gold_data]\n",
        "\n",
        "print(\"Términos extraídos eng:\", len(raw_terms))\n",
        "#print(raw_terms)\n",
        "\n",
        "print(\"Términos válidos eng:\", len(gold_terms))\n",
        "#print(gold_terms)\n",
        "\n",
        "lista_comun_eng = set.intersection(set(raw_terms), set(gold_terms))\n",
        "\n",
        "print (\"Terminos en comun eng:\", len(lista_comun_eng))\n",
        "\n",
        "#Matriz Confusion\n",
        "# 133 133\n",
        "# 144 616\n",
        "\n",
        "print(\"PRECISION = TP /(TP + FP) =\" , 133 / 277)"
      ]
    },
    {
      "cell_type": "code",
      "source": [
        "# Los ficheros deben estar cargados en la sesión de Colab para que funcione esto\n",
        "\n",
        "raw_data = json.loads(open(\"drive/MyDrive/raw_occupational_therapy_fre.json\").read())\n",
        "gold_data = json.loads(open(\"drive/MyDrive/gold_occupational_therapy_fre.json\").read())\n",
        "\n",
        "#print(raw_extracted)\n",
        "\n",
        "#print(raw_data)\n",
        "#print(gold_data)\n",
        "\n",
        "raw_terms = [term['forms']['fre'][0]['text'] for term in raw_data]\n",
        "gold_terms = [term['forms']['fre'][0]['text'] for term in gold_data]\n",
        "\n",
        "print(\"Términos extraídos fre:\", len(raw_terms))\n",
        "#print(raw_terms)\n",
        "\n",
        "print(\"Términos válidos fre:\", len(gold_terms))\n",
        "#print(gold_terms)\n",
        "\n",
        "lista_comun_fre = set.intersection(set(raw_terms), set(gold_terms))\n",
        "\n",
        "print (\"Terminos en comun fre:\", len(lista_comun_fre))\n",
        "\n",
        "#Matriz Confusion\n",
        "#  91   91\n",
        "# 133   52\n",
        "\n",
        "print(\"PRECISION = TP /(TP + FP) =\" , 91 / 224)\n"
      ],
      "metadata": {
        "id": "lhBTpiQLQZpX",
        "outputId": "c742cbee-4e2e-4b73-c39e-b17c586d61f4",
        "colab": {
          "base_uri": "https://localhost:8080/"
        }
      },
      "execution_count": 4,
      "outputs": [
        {
          "output_type": "stream",
          "name": "stdout",
          "text": [
            "Términos extraídos fre: 224\n",
            "Términos válidos fre: 143\n",
            "Terminos en comun fre: 91\n",
            "PRECISION = TP /(TP + FP) = 0.40625\n"
          ]
        }
      ]
    },
    {
      "cell_type": "code",
      "source": [
        "# Los ficheros deben estar cargados en la sesión de Colab para que funcione esto\n",
        "\n",
        "raw_data = json.loads(open(\"drive/MyDrive/raw_occupational_therapy_ger.json\").read())\n",
        "gold_data = json.loads(open(\"drive/MyDrive/gold_occupational_therapy_ger.json\").read())\n",
        "\n",
        "#print(raw_extracted)\n",
        "#print(raw_data)\n",
        "#print(gold_data)\n",
        "\n",
        "raw_terms = [term['forms']['ger'][0]['text'] for term in raw_data]\n",
        "gold_terms = [term['forms']['ger'][0]['text'] for term in gold_data]\n",
        "\n",
        "print(\"Términos extraídos ger:\", len(raw_terms))\n",
        "#print(raw_terms)\n",
        "\n",
        "print(\"Términos válidos ger:\", len(gold_terms))\n",
        "#print(gold_terms)\n",
        "\n",
        "lista_comun_ger = set.intersection(set(raw_terms), set(gold_terms))\n",
        "\n",
        "len (lista_comun_ger)\n",
        "\n",
        "\n",
        "print (\"Terminos en comun ger:\", len(lista_comun_ger))\n",
        "\n",
        "#Matriz Confusion\n",
        "#  141  141\n",
        "#  168   2\n",
        "\n",
        "print(\"PRECISION = TP /(TP + FP) =\" , 141/ 209)"
      ],
      "metadata": {
        "id": "BP_39EpA0cl0",
        "outputId": "b78831f6-ad67-46ef-c54b-7c18d195855e",
        "colab": {
          "base_uri": "https://localhost:8080/"
        }
      },
      "execution_count": 5,
      "outputs": [
        {
          "output_type": "stream",
          "name": "stdout",
          "text": [
            "Términos extraídos ger: 209\n",
            "Términos válidos ger: 143\n",
            "Terminos en comun ger: 141\n",
            "PRECISION = TP /(TP + FP) = 0.6746411483253588\n"
          ]
        }
      ]
    },
    {
      "cell_type": "code",
      "source": [
        "# Los ficheros deben estar cargados en la sesión de Colab para que funcione esto\n",
        "\n",
        "raw_data = json.loads(open(\"drive/MyDrive/raw_occupational_therapy_spa.json\").read())\n",
        "gold_data = json.loads(open(\"drive/MyDrive/gold_occupational_therapy_spa.json\").read())\n",
        "\n",
        "#print(raw_extracted)\n",
        "#print(raw_data)\n",
        "#print(gold_data)\n",
        "\n",
        "raw_terms = [term['forms']['spa'][0]['text'] for term in raw_data]\n",
        "gold_terms = [term['forms']['spa'][0]['text'] for term in gold_data]\n",
        "\n",
        "print(\"Términos extraídos spa:\", len(raw_terms))\n",
        "#print(raw_terms)\n",
        "\n",
        "print(\"Términos válidos spa:\", len(gold_terms))\n",
        "#print(gold_terms)\n",
        "\n",
        "lista_comun_spa = set.intersection(set(raw_terms), set(gold_terms))\n",
        "\n",
        "len (lista_comun_spa)\n",
        "\n",
        "print (\"Terminos en comun spa:\", len(lista_comun_spa))\n",
        "\n",
        "#Matriz Confusion\n",
        "#  78   78\n",
        "# 160   39\n",
        "\n",
        "print(\"PRECISION = TP /(TP + FP) =\" , 78 / 238)\n",
        "\n"
      ],
      "metadata": {
        "id": "HcnLzH561kaq",
        "colab": {
          "base_uri": "https://localhost:8080/"
        },
        "outputId": "6ec1be51-c558-4f74-f10a-81bfa3e27576"
      },
      "execution_count": 6,
      "outputs": [
        {
          "output_type": "stream",
          "name": "stdout",
          "text": [
            "Términos extraídos spa: 238\n",
            "Términos válidos spa: 117\n",
            "Terminos en comun spa: 78\n",
            "PRECISION = TP /(TP + FP) = 0.3277310924369748\n"
          ]
        }
      ]
    },
    {
      "cell_type": "markdown",
      "source": [
        "# Nueva sección"
      ],
      "metadata": {
        "id": "es6QX4L9nMNL"
      }
    }
  ]
}