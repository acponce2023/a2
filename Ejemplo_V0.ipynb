{
  "nbformat": 4,
  "nbformat_minor": 0,
  "metadata": {
    "colab": {
      "provenance": [],
      "include_colab_link": true
    },
    "kernelspec": {
      "name": "python3",
      "display_name": "Python 3"
    },
    "language_info": {
      "name": "python"
    }
  },
  "cells": [
    {
      "cell_type": "markdown",
      "metadata": {
        "id": "view-in-github",
        "colab_type": "text"
      },
      "source": [
        "<a href=\"https://colab.research.google.com/github/acponce2023/a2/blob/main/Ejemplo_V0.ipynb\" target=\"_parent\"><img src=\"https://colab.research.google.com/assets/colab-badge.svg\" alt=\"Open In Colab\"/></a>"
      ]
    },
    {
      "cell_type": "markdown",
      "source": [
        "Muestra de glosario, terapia ocupacional"
      ],
      "metadata": {
        "id": "4iTJInF0Qcz8"
      }
    },
    {
      "cell_type": "code",
      "source": [
        "from google.colab import drive\n",
        "drive.mount('/content/drive')"
      ],
      "metadata": {
        "colab": {
          "base_uri": "https://localhost:8080/"
        },
        "id": "w0KfKNcXOjD6",
        "outputId": "7413a1d1-dc17-44ae-9246-beecf462ef65"
      },
      "execution_count": 1,
      "outputs": [
        {
          "output_type": "stream",
          "name": "stdout",
          "text": [
            "Mounted at /content/drive\n"
          ]
        }
      ]
    },
    {
      "cell_type": "code",
      "execution_count": 2,
      "metadata": {
        "colab": {
          "base_uri": "https://localhost:8080/"
        },
        "id": "VXZvDn9fOlDU",
        "outputId": "5f997c90-062c-48dd-a344-2a70ba02138a"
      },
      "outputs": [
        {
          "output_type": "stream",
          "name": "stdout",
          "text": [
            "Términos extraídos eng: 277\n",
            "Términos válidos eng: 749\n",
            "Terminos en comun eng: 133\n",
            "PRECISION = TP /(TP + FP) = 0.48014440433212996\n"
          ]
        }
      ],
      "source": [
        "import json\n",
        "\n",
        "# Los ficheros deben estar cargados en la sesión de Colab para que funcione esto\n",
        "\n",
        "raw_data = json.loads(open(\"drive/MyDrive/raw_occupational_therapy_eng.json\").read())\n",
        "gold_data = json.loads(open(\"drive/MyDrive/gold_occupational_therapy_eng.json\").read())\n",
        "\n",
        "#print(raw_extracted)\n",
        "#print(raw_data)\n",
        "#print(gold_data)\n",
        "\n",
        "raw_terms = [term['forms']['eng'][0]['text'] for term in raw_data]\n",
        "gold_terms = [term['forms']['eng'][0]['text'] for term in gold_data]\n",
        "\n",
        "print(\"Términos extraídos eng:\", len(raw_terms))\n",
        "#print(raw_terms)\n",
        "\n",
        "print(\"Términos válidos eng:\", len(gold_terms))\n",
        "#print(gold_terms)\n",
        "\n",
        "lista_comun_eng = set.intersection(set(raw_terms), set(gold_terms))\n",
        "\n",
        "print (\"Terminos en comun eng:\", len(lista_comun_eng))\n",
        "\n",
        "# Matriz Confusion\n",
        "# Definimos el listado inicial como A y el listado final como B, los valores de la matriz los podemos razonar de la siguiente forma:\n",
        "# A :glosario en ENG terminos extraidos; B: glosario en ENG de terminos validados\n",
        "#TP: la intersección de A y B\n",
        "#FP: los valores de A no contenidos en B\n",
        "#FN: los valores de B no contenidos en A\n",
        "#TN: ¿?\n",
        "\n",
        "#-->Matriz Confusion\n",
        "# 133 0\n",
        "# 144 0\n",
        "\n",
        "print(\"PRECISION = TP /(TP + FP) =\" , 133 / 277)"
      ]
    },
    {
      "cell_type": "code",
      "source": [
        "# Los ficheros deben estar cargados en la sesión de Colab para que funcione esto\n",
        "\n",
        "raw_data = json.loads(open(\"drive/MyDrive/raw_occupational_therapy_fre.json\").read())\n",
        "gold_data = json.loads(open(\"drive/MyDrive/gold_occupational_therapy_fre.json\").read())\n",
        "\n",
        "#print(raw_extracted)\n",
        "\n",
        "#print(raw_data)\n",
        "#print(gold_data)\n",
        "\n",
        "raw_terms = [term['forms']['fre'][0]['text'] for term in raw_data]\n",
        "gold_terms = [term['forms']['fre'][0]['text'] for term in gold_data]\n",
        "\n",
        "print(\"Términos extraídos fre:\", len(raw_terms))\n",
        "#print(raw_terms)\n",
        "\n",
        "print(\"Términos válidos fre:\", len(gold_terms))\n",
        "#print(gold_terms)\n",
        "\n",
        "lista_comun_fre = set.intersection(set(raw_terms), set(gold_terms))\n",
        "\n",
        "print (\"Terminos en comun fre:\", len(lista_comun_fre))\n",
        "\n",
        "# Matriz Confusion\n",
        "# Definimos el listado inicial como A y el listado final como B, los valores de la matriz los podemos razonar de la siguiente forma:\n",
        "# A :glosario en FRE terminos extraidos; B: glosario en FRE de terminos validados\n",
        "#TP: la intersección de A y B\n",
        "#FP: los valores de A no contenidos en B\n",
        "#FN: los valores de B no contenidos en A\n",
        "#TN: ¿?\n",
        "\n",
        "#-->Matriz Confusion\n",
        "#  91   0\n",
        "# 133   0\n",
        "\n",
        "print(\"PRECISION = TP /(TP + FP) =\" , 91 / 224)\n"
      ],
      "metadata": {
        "id": "lhBTpiQLQZpX",
        "outputId": "d070ae5d-cd32-4e29-a175-1c495dc22f32",
        "colab": {
          "base_uri": "https://localhost:8080/"
        }
      },
      "execution_count": 3,
      "outputs": [
        {
          "output_type": "stream",
          "name": "stdout",
          "text": [
            "Términos extraídos fre: 224\n",
            "Términos válidos fre: 143\n",
            "Terminos en comun fre: 91\n",
            "PRECISION = TP /(TP + FP) = 0.40625\n"
          ]
        }
      ]
    },
    {
      "cell_type": "code",
      "source": [
        "# Los ficheros deben estar cargados en la sesión de Colab para que funcione esto\n",
        "\n",
        "raw_data = json.loads(open(\"drive/MyDrive/raw_occupational_therapy_ger.json\").read())\n",
        "gold_data = json.loads(open(\"drive/MyDrive/gold_occupational_therapy_ger.json\").read())\n",
        "\n",
        "#print(raw_extracted)\n",
        "#print(raw_data)\n",
        "#print(gold_data)\n",
        "\n",
        "raw_terms = [term['forms']['ger'][0]['text'] for term in raw_data]\n",
        "gold_terms = [term['forms']['ger'][0]['text'] for term in gold_data]\n",
        "\n",
        "print(\"Términos extraídos ger:\", len(raw_terms))\n",
        "#print(raw_terms)\n",
        "\n",
        "print(\"Términos válidos ger:\", len(gold_terms))\n",
        "#print(gold_terms)\n",
        "\n",
        "lista_comun_ger = set.intersection(set(raw_terms), set(gold_terms))\n",
        "\n",
        "len (lista_comun_ger)\n",
        "\n",
        "\n",
        "print (\"Terminos en comun ger:\", len(lista_comun_ger))\n",
        "\n",
        "# Matriz Confusion\n",
        "# Definimos el listado inicial como A y el listado final como B, los valores de la matriz los podemos razonar de la siguiente forma:\n",
        "# A :glosario en GERterminos extraidos; B: glosario en GER de terminos validados\n",
        "#TP: la intersección de A y B\n",
        "#FP: los valores de A no contenidos en B\n",
        "#FN: los valores de B no contenidos en A\n",
        "#TN: ¿?\n",
        "\n",
        "#-->Matriz Confusion\n",
        "#  141  0\n",
        "#  168  0\n",
        "\n",
        "print(\"PRECISION = TP /(TP + FP) =\" , 141/ 209)\n",
        "print (\"La mejor tasa de aciertos es la del glosario en aleman\")"
      ],
      "metadata": {
        "id": "BP_39EpA0cl0",
        "outputId": "32169416-91d3-4413-c94e-afcd6c135f85",
        "colab": {
          "base_uri": "https://localhost:8080/"
        }
      },
      "execution_count": 4,
      "outputs": [
        {
          "output_type": "stream",
          "name": "stdout",
          "text": [
            "Términos extraídos ger: 209\n",
            "Términos válidos ger: 143\n",
            "Terminos en comun ger: 141\n",
            "PRECISION = TP /(TP + FP) = 0.6746411483253588\n",
            "La mejor tasa de aciertos es la del glosario en aleman\n"
          ]
        }
      ]
    },
    {
      "cell_type": "code",
      "source": [
        "# Los ficheros deben estar cargados en la sesión de Colab para que funcione esto\n",
        "\n",
        "raw_data = json.loads(open(\"drive/MyDrive/raw_occupational_therapy_spa.json\").read())\n",
        "gold_data = json.loads(open(\"drive/MyDrive/gold_occupational_therapy_spa.json\").read())\n",
        "\n",
        "#print(raw_extracted)\n",
        "#print(raw_data)\n",
        "#print(gold_data)\n",
        "\n",
        "raw_terms = [term['forms']['spa'][0]['text'] for term in raw_data]\n",
        "gold_terms = [term['forms']['spa'][0]['text'] for term in gold_data]\n",
        "\n",
        "print(\"Términos extraídos spa:\", len(raw_terms))\n",
        "#print(raw_terms)\n",
        "\n",
        "print(\"Términos válidos spa:\", len(gold_terms))\n",
        "#print(gold_terms)\n",
        "\n",
        "lista_comun_spa = set.intersection(set(raw_terms), set(gold_terms))\n",
        "\n",
        "len (lista_comun_spa)\n",
        "\n",
        "print (\"Terminos en comun spa:\", len(lista_comun_spa))\n",
        "\n",
        "# Matriz Confusion\n",
        "# Definimos el listado inicial como A y el listado final como B, los valores de la matriz los podemos razonar de la siguiente forma:\n",
        "# A :glosario en SPA terminos extraidos; B: glosario en SPA de terminos validados\n",
        "#TP: la intersección de A y B\n",
        "#FP: los valores de A no contenidos en B\n",
        "#FN: los valores de B no contenidos en A\n",
        "#TN: ¿?\n",
        "\n",
        "#-->Matriz Confusion\n",
        "\n",
        "#Matriz Confusion\n",
        "#  78   0\n",
        "# 160   0\n",
        "\n",
        "print(\"PRECISION = TP /(TP + FP) =\" , 78 / 238)\n",
        "\n"
      ],
      "metadata": {
        "id": "HcnLzH561kaq",
        "colab": {
          "base_uri": "https://localhost:8080/"
        },
        "outputId": "066de4fd-b34a-4b48-a9ca-7b9f07976a91"
      },
      "execution_count": null,
      "outputs": [
        {
          "output_type": "stream",
          "name": "stdout",
          "text": [
            "Términos extraídos spa: 238\n",
            "Términos válidos spa: 117\n",
            "Terminos en comun spa: 78\n",
            "PRECISION = TP /(TP + FP) = 0.3277310924369748\n"
          ]
        }
      ]
    }
  ]
}