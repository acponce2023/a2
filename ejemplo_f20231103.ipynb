{
  "nbformat": 4,
  "nbformat_minor": 0,
  "metadata": {
    "colab": {
      "provenance": [],
      "include_colab_link": true
    },
    "kernelspec": {
      "name": "python3",
      "display_name": "Python 3"
    },
    "language_info": {
      "name": "python"
    }
  },
  "cells": [
    {
      "cell_type": "markdown",
      "metadata": {
        "id": "view-in-github",
        "colab_type": "text"
      },
      "source": [
        "<a href=\"https://colab.research.google.com/github/acponce2023/a2/blob/main/ejemplo_f20231103.ipynb\" target=\"_parent\"><img src=\"https://colab.research.google.com/assets/colab-badge.svg\" alt=\"Open In Colab\"/></a>"
      ]
    },
    {
      "cell_type": "markdown",
      "source": [
        "Muestra de glosario, terapia ocupacional"
      ],
      "metadata": {
        "id": "4iTJInF0Qcz8"
      }
    },
    {
      "cell_type": "code",
      "execution_count": 3,
      "metadata": {
        "colab": {
          "base_uri": "https://localhost:8080/"
        },
        "id": "VXZvDn9fOlDU",
        "outputId": "b00c7c1f-409d-427c-c63e-74b916561d53"
      },
      "outputs": [
        {
          "output_type": "stream",
          "name": "stdout",
          "text": [
            "Términos extraídos: 536\n",
            "Términos válidos: 152\n",
            "Terminos en comun ger: 51\n",
            "PRECISION = TP /(TP + FP) = 0.09514925373134328\n"
          ]
        }
      ],
      "source": [
        "import json\n",
        "#from pandas import read_csv\n",
        "#import pandas as pd\n",
        "\n",
        "# Los ficheros deben estar cargados en la sesión de Colab para que funcione esto\n",
        "\n",
        "raw_data = json.loads(open(\"raw_epo_11_oct_ger.json\").read())\n",
        "##gold_data = pd.read_csv(\"Glossary_DEU ENG_11 Oct_CSV.csv\")\n",
        "##file_content = open(\"Glossary_DEU ENG_11 Oct.json\").read()\n",
        "gold_data = json.loads(open(\"Glossary_DEU ENG_11 Oct.json\").read())\n",
        "\n",
        "#print(raw_data)\n",
        "#print(gold_data)\n",
        "##print(gold_data.shape)\n",
        "##print(gold_data.head(100))\n",
        "\n",
        "\n",
        "raw_terms = [term['forms']['ger'][0]['text'] for term in raw_data]\n",
        "gold_terms = [term [' HDF-, MDF-, USB-, Span- oder Sperrholzplatten']for term in gold_data]\n",
        "\n",
        "print(\"Términos extraídos:\", len(raw_terms))\n",
        "#print(raw_terms)\n",
        "\n",
        "print(\"Términos válidos:\", len(gold_terms))\n",
        "#print(gold_terms)\n",
        "\n",
        "lista_comun_ger = set.intersection(set(raw_terms), set(gold_terms))\n",
        "print (\"Terminos en comun ger:\", len(lista_comun_ger))\n",
        "#print(lista_comun_ger)\n",
        "# Matriz Confusion\n",
        "# Definimos el listado inicial como A y el listado final como B, los valores de la matriz los podemos razonar de la siguiente forma:\n",
        "# A :terminos a filtrar  SPA ; B: Términos filtrados y lematizados\n",
        "#TP: la intersección de A y B\n",
        "#FP: los valores de A no contenidos en B\n",
        "#FN: los valores de B no contenidos en A\n",
        "#TN: ¿?\n",
        "\n",
        "# TP      FN\n",
        "# FP      TN\n",
        "#----------->\n",
        "# 51   0\n",
        "# 485  0\n",
        "\n",
        "print(\"PRECISION = TP /(TP + FP) =\" , 51/536)"
      ]
    }
  ]
}